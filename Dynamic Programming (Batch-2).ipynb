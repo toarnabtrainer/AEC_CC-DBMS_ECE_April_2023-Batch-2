{
 "cells": [
  {
   "cell_type": "markdown",
   "id": "dac40bd3-5322-4126-9d30-16d540f9aff7",
   "metadata": {},
   "source": [
    "## **Dynamic Programming**\n",
    "\n",
    "> Dynamic Programming is a technique that combines the correctness of complete search and the efficiency of Greedy algorithms. Dynamic programming can be applied if the problem can be divided into overlapping subproblems that can be solved independently.\n",
    "\n",
    "> There are two types of uses of Dynamic Programming problems:\n",
    "* **Finding an optimal solution:** We want to find a solution that as large as possible or as small as possible\n",
    "* **Counting the number of solutions:** We want to calculate the total number of possible solutions."
   ]
  },
  {
   "cell_type": "code",
   "execution_count": 2,
   "id": "0ec81bd7-03ee-4e56-82ff-7e78daaa1cae",
   "metadata": {},
   "outputs": [
    {
     "name": "stdout",
     "output_type": "stream",
     "text": [
      "5\n",
      "13\n"
     ]
    }
   ],
   "source": [
    "#     Index Numbers:  0  1  2  3  4  5  6  7   8   9   10  ...\n",
    "# Fibonacci Numbers:  0  1  1  2  3  5  8  13  21  34  55  ...\n",
    "# recursive calls require stack implementation in the computer's primary memory to hold the return addresses.\n",
    "# so enhancing the both the time (exponential) and space O(n) complexities.\n",
    "def fibonacciRecursive(n):\n",
    "    if (n == 0 or n == 1):    # base case\n",
    "        return n\n",
    "    ans = fibonacciRecursive(n - 1) + fibonacciRecursive(n - 2)   # recursive case\n",
    "    return ans\n",
    "\n",
    "print (fibonacciRecursive(5))\n",
    "print (fibonacciRecursive(7))"
   ]
  },
  {
   "cell_type": "code",
   "execution_count": 4,
   "id": "92c6e64e-0a50-48b1-b1de-1088c446e11c",
   "metadata": {},
   "outputs": [
    {
     "name": "stdin",
     "output_type": "stream",
     "text": [
      "Please enter the value of n:  9\n"
     ]
    },
    {
     "name": "stdout",
     "output_type": "stream",
     "text": [
      "dp: [0, 0, 1, 0, 0, 0, 0, 0, 0, 0]\n",
      "dp: [0, 0, 1, 2, 0, 0, 0, 0, 0, 0]\n",
      "dp: [0, 0, 1, 2, 3, 0, 0, 0, 0, 0]\n",
      "dp: [0, 0, 1, 2, 3, 5, 0, 0, 0, 0]\n",
      "dp: [0, 0, 1, 2, 3, 5, 8, 0, 0, 0]\n",
      "dp: [0, 0, 1, 2, 3, 5, 8, 13, 0, 0]\n",
      "dp: [0, 0, 1, 2, 3, 5, 8, 13, 21, 0]\n",
      "dp: [0, 0, 1, 2, 3, 5, 8, 13, 21, 34]\n",
      "34\n"
     ]
    }
   ],
   "source": [
    "#     Index Numbers:  0  1  2  3  4  5  6  7   8   9   10  ...\n",
    "# Fibonacci Numbers:  0  1  1  2  3  5  8  13  21  34  55  ...\n",
    "# implementing fibonacci problem in top-down apporach\n",
    "def fibonacciDPTopDown(n, dp):\n",
    "    if (n == 0 or n == 1):\n",
    "        return n\n",
    "    if (dp[n] != 0):\n",
    "        return dp[n]\n",
    "    dp[n] = fibonacciDPTopDown(n - 1, dp) + fibonacciDPTopDown(n - 2, dp)\n",
    "    print (\"dp:\", dp)\n",
    "    return dp[n]\n",
    "\n",
    "n = int(input(\"Please enter the value of n: \"))\n",
    "dp = [0 for i in range(n + 1)]\n",
    "print (fibonacciDPTopDown(n, dp))"
   ]
  },
  {
   "cell_type": "code",
   "execution_count": 7,
   "id": "87d5b5c4-5877-43d6-afad-204ba7534810",
   "metadata": {},
   "outputs": [
    {
     "name": "stdin",
     "output_type": "stream",
     "text": [
      "Enter the value of n:  5\n"
     ]
    },
    {
     "name": "stdout",
     "output_type": "stream",
     "text": [
      "[0, 1, 1, 2, 3, 5]\n",
      "5\n"
     ]
    }
   ],
   "source": [
    "#     Index Numbers:  0  1  2  3  4  5  6  7   8   9   10  ...\n",
    "# Fibonacci Numbers:  0  1  1  2  3  5  8  13  21  34  55  ...\n",
    "# implementing fibonacci problem in bottom-up apporach\n",
    "# time complexity O(n) and space complexity O(n)\n",
    "def fibonacciDPBottomUp(n):\n",
    "    dp = [0 for i in range(n + 1)]\n",
    "    dp[0] = 0\n",
    "    dp[1] = 1\n",
    "    for i in range(2, n + 1):\n",
    "        dp[i] = dp[i - 1] + dp[i - 2]\n",
    "    print (dp)\n",
    "    return dp[n]\n",
    "\n",
    "n = int(input(\"Enter the value of n: \"))\n",
    "print (fibonacciDPBottomUp(n))"
   ]
  },
  {
   "cell_type": "code",
   "execution_count": 9,
   "id": "7753cd3d-49d4-4ae9-ae8c-ad767327edae",
   "metadata": {},
   "outputs": [
    {
     "name": "stdin",
     "output_type": "stream",
     "text": [
      "Enter the value of n:  4\n"
     ]
    },
    {
     "name": "stdout",
     "output_type": "stream",
     "text": [
      "3\n"
     ]
    }
   ],
   "source": [
    "#     Index Numbers:  0  1  2  3  4  5  6  7   8   9   10  ...\n",
    "# Fibonacci Numbers:  0  1  1  2  3  5  8  13  21  34  55  ...\n",
    "# implementing fibonacci problem in bottom-up apporach\n",
    "# time complexity O(n) and space complexity O(1)\n",
    "def fibonacciDPBottomUpSpaceOptimized(n):\n",
    "    if (n == 0 or n == 1): return n\n",
    "    f1 = 0\n",
    "    f2 = 1\n",
    "    for i in range(2, n + 1):\n",
    "        f3 = f1 + f2\n",
    "        f1 = f2\n",
    "        f2 = f3\n",
    "    return f3\n",
    "\n",
    "n = int(input(\"Enter the value of n: \"))\n",
    "print (fibonacciDPBottomUpSpaceOptimized(n))"
   ]
  },
  {
   "cell_type": "code",
   "execution_count": null,
   "id": "51965c8d-87b6-4321-977c-8dced21a3ec2",
   "metadata": {},
   "outputs": [],
   "source": []
  },
  {
   "cell_type": "code",
   "execution_count": null,
   "id": "7169bbf0-c8d4-4308-9306-3325f2db0a1a",
   "metadata": {},
   "outputs": [],
   "source": []
  },
  {
   "cell_type": "code",
   "execution_count": null,
   "id": "99753485-2024-4b2d-af0e-7d9cce289c25",
   "metadata": {},
   "outputs": [],
   "source": []
  },
  {
   "cell_type": "code",
   "execution_count": null,
   "id": "6c350550-9bd7-41b6-96eb-1a5455b28c56",
   "metadata": {},
   "outputs": [],
   "source": []
  },
  {
   "cell_type": "code",
   "execution_count": null,
   "id": "ed08c340-954f-4251-a675-30a15c2b9c73",
   "metadata": {},
   "outputs": [],
   "source": []
  },
  {
   "cell_type": "code",
   "execution_count": null,
   "id": "0e7bf040-e634-46ff-9926-e38ab99f82f9",
   "metadata": {},
   "outputs": [],
   "source": []
  },
  {
   "cell_type": "code",
   "execution_count": null,
   "id": "574f6eca-5b82-4dd9-be43-74cb4427daf0",
   "metadata": {},
   "outputs": [],
   "source": []
  },
  {
   "cell_type": "code",
   "execution_count": null,
   "id": "fd2c131d-e7a0-4f1f-afbb-31bcac6c61ae",
   "metadata": {},
   "outputs": [],
   "source": []
  },
  {
   "cell_type": "code",
   "execution_count": null,
   "id": "9187461f-9cc0-4750-b1bf-847a6ee9a600",
   "metadata": {},
   "outputs": [],
   "source": []
  },
  {
   "cell_type": "code",
   "execution_count": null,
   "id": "9b31b03f-1846-4aa1-84ff-4c954298ebdb",
   "metadata": {},
   "outputs": [],
   "source": []
  },
  {
   "cell_type": "code",
   "execution_count": null,
   "id": "ced200d6-4722-46f7-8cd0-f5b9a0cb176c",
   "metadata": {},
   "outputs": [],
   "source": []
  },
  {
   "cell_type": "code",
   "execution_count": null,
   "id": "3a42de80-c0aa-4350-9759-ba8aa4c9b8cd",
   "metadata": {},
   "outputs": [],
   "source": []
  },
  {
   "cell_type": "code",
   "execution_count": null,
   "id": "f84d80f3-f882-46e5-bf47-a75b351a4a70",
   "metadata": {},
   "outputs": [],
   "source": []
  }
 ],
 "metadata": {
  "kernelspec": {
   "display_name": "Python 3",
   "language": "python",
   "name": "python3"
  },
  "language_info": {
   "codemirror_mode": {
    "name": "ipython",
    "version": 3
   },
   "file_extension": ".py",
   "mimetype": "text/x-python",
   "name": "python",
   "nbconvert_exporter": "python",
   "pygments_lexer": "ipython3",
   "version": "3.8.8"
  }
 },
 "nbformat": 4,
 "nbformat_minor": 5
}
