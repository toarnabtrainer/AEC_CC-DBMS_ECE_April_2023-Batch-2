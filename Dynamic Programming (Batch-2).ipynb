{
 "cells": [
  {
   "cell_type": "markdown",
   "id": "dac40bd3-5322-4126-9d30-16d540f9aff7",
   "metadata": {},
   "source": [
    "## **Dynamic Programming**\n",
    "\n",
    "> Dynamic Programming is a technique that combines the correctness of complete search and the efficiency of Greedy algorithms. Dynamic programming can be applied if the problem can be divided into overlapping subproblems that can be solved independently.\n",
    "\n",
    "> There are two types of uses of Dynamic Programming problems:\n",
    "* **Finding an optimal solution:** We want to find a solution that as large as possible or as small as possible\n",
    "* **Counting the number of solutions:** We want to calculate the total number of possible solutions."
   ]
  },
  {
   "cell_type": "code",
   "execution_count": 2,
   "id": "0ec81bd7-03ee-4e56-82ff-7e78daaa1cae",
   "metadata": {},
   "outputs": [
    {
     "name": "stdout",
     "output_type": "stream",
     "text": [
      "5\n",
      "13\n"
     ]
    }
   ],
   "source": [
    "#     Index Numbers:  0  1  2  3  4  5  6  7   8   9   10  ...\n",
    "# Fibonacci Numbers:  0  1  1  2  3  5  8  13  21  34  55  ...\n",
    "# recursive calls require stack implementation in the computer's primary memory to hold the return addresses.\n",
    "# so enhancing the both the time (exponential) and space O(n) complexities.\n",
    "def fibonacciRecursive(n):\n",
    "    if (n == 0 or n == 1):    # base case\n",
    "        return n\n",
    "    ans = fibonacciRecursive(n - 1) + fibonacciRecursive(n - 2)   # recursive case\n",
    "    return ans\n",
    "\n",
    "print (fibonacciRecursive(5))\n",
    "print (fibonacciRecursive(7))"
   ]
  },
  {
   "cell_type": "code",
   "execution_count": 4,
   "id": "92c6e64e-0a50-48b1-b1de-1088c446e11c",
   "metadata": {},
   "outputs": [
    {
     "name": "stdin",
     "output_type": "stream",
     "text": [
      "Please enter the value of n:  9\n"
     ]
    },
    {
     "name": "stdout",
     "output_type": "stream",
     "text": [
      "dp: [0, 0, 1, 0, 0, 0, 0, 0, 0, 0]\n",
      "dp: [0, 0, 1, 2, 0, 0, 0, 0, 0, 0]\n",
      "dp: [0, 0, 1, 2, 3, 0, 0, 0, 0, 0]\n",
      "dp: [0, 0, 1, 2, 3, 5, 0, 0, 0, 0]\n",
      "dp: [0, 0, 1, 2, 3, 5, 8, 0, 0, 0]\n",
      "dp: [0, 0, 1, 2, 3, 5, 8, 13, 0, 0]\n",
      "dp: [0, 0, 1, 2, 3, 5, 8, 13, 21, 0]\n",
      "dp: [0, 0, 1, 2, 3, 5, 8, 13, 21, 34]\n",
      "34\n"
     ]
    }
   ],
   "source": [
    "#     Index Numbers:  0  1  2  3  4  5  6  7   8   9   10  ...\n",
    "# Fibonacci Numbers:  0  1  1  2  3  5  8  13  21  34  55  ...\n",
    "# implementing fibonacci problem in top-down apporach\n",
    "def fibonacciDPTopDown(n, dp):\n",
    "    if (n == 0 or n == 1):\n",
    "        return n\n",
    "    if (dp[n] != 0):\n",
    "        return dp[n]\n",
    "    dp[n] = fibonacciDPTopDown(n - 1, dp) + fibonacciDPTopDown(n - 2, dp)\n",
    "    print (\"dp:\", dp)\n",
    "    return dp[n]\n",
    "\n",
    "n = int(input(\"Please enter the value of n: \"))\n",
    "dp = [0 for i in range(n + 1)]\n",
    "print (fibonacciDPTopDown(n, dp))"
   ]
  },
  {
   "cell_type": "code",
   "execution_count": 7,
   "id": "87d5b5c4-5877-43d6-afad-204ba7534810",
   "metadata": {},
   "outputs": [
    {
     "name": "stdin",
     "output_type": "stream",
     "text": [
      "Enter the value of n:  5\n"
     ]
    },
    {
     "name": "stdout",
     "output_type": "stream",
     "text": [
      "[0, 1, 1, 2, 3, 5]\n",
      "5\n"
     ]
    }
   ],
   "source": [
    "#     Index Numbers:  0  1  2  3  4  5  6  7   8   9   10  ...\n",
    "# Fibonacci Numbers:  0  1  1  2  3  5  8  13  21  34  55  ...\n",
    "# implementing fibonacci problem in bottom-up apporach\n",
    "# time complexity O(n) and space complexity O(n)\n",
    "def fibonacciDPBottomUp(n):\n",
    "    dp = [0 for i in range(n + 1)]\n",
    "    dp[0] = 0\n",
    "    dp[1] = 1\n",
    "    for i in range(2, n + 1):\n",
    "        dp[i] = dp[i - 1] + dp[i - 2]\n",
    "    print (dp)\n",
    "    return dp[n]\n",
    "\n",
    "n = int(input(\"Enter the value of n: \"))\n",
    "print (fibonacciDPBottomUp(n))"
   ]
  },
  {
   "cell_type": "code",
   "execution_count": 9,
   "id": "7753cd3d-49d4-4ae9-ae8c-ad767327edae",
   "metadata": {},
   "outputs": [
    {
     "name": "stdin",
     "output_type": "stream",
     "text": [
      "Enter the value of n:  4\n"
     ]
    },
    {
     "name": "stdout",
     "output_type": "stream",
     "text": [
      "3\n"
     ]
    }
   ],
   "source": [
    "#     Index Numbers:  0  1  2  3  4  5  6  7   8   9   10  ...\n",
    "# Fibonacci Numbers:  0  1  1  2  3  5  8  13  21  34  55  ...\n",
    "# implementing fibonacci problem in bottom-up apporach\n",
    "# time complexity O(n) and space complexity O(1)\n",
    "def fibonacciDPBottomUpSpaceOptimized(n):\n",
    "    if (n == 0 or n == 1): return n\n",
    "    f1 = 0\n",
    "    f2 = 1\n",
    "    for i in range(2, n + 1):\n",
    "        f3 = f1 + f2\n",
    "        f1 = f2\n",
    "        f2 = f3\n",
    "    return f3\n",
    "\n",
    "n = int(input(\"Enter the value of n: \"))\n",
    "print (fibonacciDPBottomUpSpaceOptimized(n))"
   ]
  },
  {
   "cell_type": "code",
   "execution_count": null,
   "id": "51965c8d-87b6-4321-977c-8dced21a3ec2",
   "metadata": {},
   "outputs": [],
   "source": [
    "LeetCode: 509. Fibonacci Number (https://leetcode.com/problems/fibonacci-number/)\n",
    "\n",
    "The Fibonacci numbers, commonly denoted F(n) form a sequence, called the Fibonacci sequence, such that each number is the sum of the two preceding ones, starting from 0 and 1. That is,\n",
    "\n",
    "F(0) = 0, F(1) = 1\n",
    "F(n) = F(n - 1) + F(n - 2), for n > 1.\n",
    "Given n, calculate F(n).\n",
    "\n",
    "Example 1:\n",
    "Input: n = 2\n",
    "Output: 1\n",
    "Explanation: F(2) = F(1) + F(0) = 1 + 0 = 1.\n",
    "\n",
    "Example 2:\n",
    "Input: n = 3\n",
    "Output: 2\n",
    "Explanation: F(3) = F(2) + F(1) = 1 + 1 = 2.\n",
    "\n",
    "Example 3:\n",
    "Input: n = 4\n",
    "Output: 3\n",
    "Explanation: F(4) = F(3) + F(2) = 2 + 1 = 3.\n",
    "\n",
    "Constraints:\n",
    "0 <= n <= 30"
   ]
  },
  {
   "cell_type": "code",
   "execution_count": 10,
   "id": "7169bbf0-c8d4-4308-9306-3325f2db0a1a",
   "metadata": {},
   "outputs": [
    {
     "name": "stdout",
     "output_type": "stream",
     "text": [
      "5\n",
      "13\n"
     ]
    }
   ],
   "source": [
    "class Solution(object):\n",
    "    def fib(self, n):\n",
    "        \"\"\"\n",
    "        :type n: int\n",
    "        :rtype: int\n",
    "        \"\"\"\n",
    "        if (n == 0 or n == 1): return n\n",
    "        f1 = 0\n",
    "        f2 = 1\n",
    "        for i in range(2, n + 1):\n",
    "            f3 = f1 + f2\n",
    "            f1 = f2\n",
    "            f2 = f3\n",
    "        return f3\n",
    "        \n",
    "print (Solution().fib(5))\n",
    "print (Solution().fib(7))"
   ]
  },
  {
   "cell_type": "code",
   "execution_count": null,
   "id": "99753485-2024-4b2d-af0e-7d9cce289c25",
   "metadata": {},
   "outputs": [],
   "source": [
    "# Java Implementation\n",
    "class Solution {\n",
    "    public int fib(int n) {\n",
    "        if(n==0)\n",
    "        return 0;\n",
    "            int a=1;\n",
    "            int b=1;\n",
    "            for(int i=1; i<n; i++){\n",
    "                int temp=b;\n",
    "                b=a+b;\n",
    "                a=temp;\n",
    "            }\n",
    "            return a;\n",
    "    }\n",
    "}"
   ]
  },
  {
   "cell_type": "code",
   "execution_count": null,
   "id": "6c350550-9bd7-41b6-96eb-1a5455b28c56",
   "metadata": {},
   "outputs": [],
   "source": [
    "# C++ Implementation\n",
    "class Solution {\n",
    "public:\n",
    "    int fib(int n) {\n",
    "         if(n==0)return 0;\n",
    "            int a=1;\n",
    "            int b=1;\n",
    "            for(int i=1; i<n; i++){\n",
    "                int temp=b;\n",
    "                b=a+b;\n",
    "                a=temp;\n",
    "            }\n",
    "            return a;\n",
    "        \n",
    "    }\n",
    "};"
   ]
  },
  {
   "cell_type": "code",
   "execution_count": null,
   "id": "ed08c340-954f-4251-a675-30a15c2b9c73",
   "metadata": {},
   "outputs": [],
   "source": [
    "LeetCode: 300. Longest Increasing Subsequence (https://leetcode.com/problems/longest-increasing-subsequence/)\n",
    "\n",
    "Given an integer array nums, return the length of the longest strictly increasing subsequence.\n",
    "\n",
    "Example 1:\n",
    "Input: nums = [10,9,2,5,3,7,101,18]\n",
    "Output: 4\n",
    "Explanation: The longest increasing subsequence is [2,3,7,101], therefore the length is 4.\n",
    "\n",
    "Example 2:\n",
    "Input: nums = [0,1,0,3,2,3]\n",
    "Output: 4\n",
    "\n",
    "Example 3:\n",
    "Input: nums = [7,7,7,7,7,7,7]\n",
    "Output: 1\n",
    "\n",
    "Constraints:\n",
    "1 <= nums.length <= 2500\n",
    "-10^4 <= nums[i] <= 10^4\n",
    "\n",
    "Follow up: Can you come up with an algorithm that runs in O(n log(n)) time complexity?"
   ]
  },
  {
   "cell_type": "code",
   "execution_count": 14,
   "id": "0e7bf040-e634-46ff-9926-e38ab99f82f9",
   "metadata": {},
   "outputs": [
    {
     "name": "stdout",
     "output_type": "stream",
     "text": [
      "[1, 2, 1, 1, 1, 1, 1, 1, 1, 1]\n",
      "[1, 2, 1, 1, 1, 1, 1, 1, 1, 1]\n",
      "[1, 2, 1, 3, 1, 1, 1, 1, 1, 1]\n",
      "[1, 2, 1, 3, 2, 1, 1, 1, 1, 1]\n",
      "[1, 2, 1, 3, 2, 4, 1, 1, 1, 1]\n",
      "[1, 2, 1, 3, 2, 4, 4, 1, 1, 1]\n",
      "[1, 2, 1, 3, 2, 4, 4, 5, 1, 1]\n",
      "[1, 2, 1, 3, 2, 4, 4, 5, 6, 1]\n",
      "[1, 2, 1, 3, 2, 4, 4, 5, 6, 1]\n",
      "6\n"
     ]
    }
   ],
   "source": [
    "class Solution(object):\n",
    "    def lengthOfLIS(self, nums):\n",
    "        \"\"\"\n",
    "        :type nums: List[int]\n",
    "        :rtype: int\n",
    "        \"\"\"\n",
    "        n = len(nums)\n",
    "        if (n <= 1): return n\n",
    "        dp = [1 for i in range(n)]\n",
    "        for i in range(1, n):\n",
    "            for j in range(i):\n",
    "                if (nums[j] < nums[i]):\n",
    "                    currentlen = 1 + dp[j]\n",
    "                    dp[i] = max(currentlen, dp[i])\n",
    "            print (dp)\n",
    "        return max(dp)\n",
    "print (Solution().lengthOfLIS([10, 22, 9, 33, 21, 50, 41, 60, 80, 6]))"
   ]
  },
  {
   "cell_type": "code",
   "execution_count": null,
   "id": "574f6eca-5b82-4dd9-be43-74cb4427daf0",
   "metadata": {},
   "outputs": [],
   "source": [
    "# Java Implementation\n",
    " public int lengthOfLIS(int[] nums) {            \n",
    "        if(nums.length==0){\n",
    "            return 0;\n",
    "        }\n",
    "        int[] dp = new int[nums.length];\n",
    "        dp[0] = 1;\n",
    "        int ans=1;\n",
    "        for(int i=0; i<dp.length; i++){\n",
    "            int max = 0;\n",
    "            for(int j=0; j<i; j++){\n",
    "                if(nums[i]>nums[j]){\n",
    "                    max = Math.max(max,dp[j]);\n",
    "                }\n",
    "                dp[i] = max+1;\n",
    "            }\n",
    "            ans = Math.max(ans, dp[i]);\n",
    "        }\n",
    "        return ans;\n",
    "    }"
   ]
  },
  {
   "cell_type": "code",
   "execution_count": null,
   "id": "fd2c131d-e7a0-4f1f-afbb-31bcac6c61ae",
   "metadata": {},
   "outputs": [],
   "source": [
    "# C++ Implementation\n",
    " int lengthOfLIS(vector<int>& nums) {\n",
    "        int n = nums.size();\n",
    "        vector<int> temp (n,1);\n",
    "\n",
    "        for(int i=1;i<n;i++)\n",
    "        {\n",
    "            for(int j=0;j<i;j++)\n",
    "            {\n",
    "                if(nums[i] > nums[j] && temp[i] <temp[j]+1)\n",
    "                temp[i]  =temp[j]+1;\n",
    "            }\n",
    "        }\n",
    "\n",
    "        return *max_element(temp.begin(),temp.end());\n",
    "        \n",
    "    }"
   ]
  },
  {
   "cell_type": "code",
   "execution_count": null,
   "id": "9187461f-9cc0-4750-b1bf-847a6ee9a600",
   "metadata": {},
   "outputs": [],
   "source": [
    "LeetCode: 1143. Longest Common Subsequence (https://leetcode.com/problems/longest-common-subsequence/)\n",
    "\n",
    "Given two strings text1 and text2, return the length of their longest common subsequence. If there is no common subsequence,\n",
    "return 0.\n",
    "\n",
    "A subsequence of a string is a new string generated from the original string with some characters (can be none) deleted \n",
    "without changing the relative order of the remaining characters.\n",
    "\n",
    "For example, \"ace\" is a subsequence of \"abcde\".\n",
    "A common subsequence of two strings is a subsequence that is common to both strings.\n",
    "\n",
    "Example 1:\n",
    "Input: text1 = \"abcde\", text2 = \"ace\" \n",
    "Output: 3  \n",
    "Explanation: The longest common subsequence is \"ace\" and its length is 3.\n",
    "\n",
    "Example 2:\n",
    "Input: text1 = \"abc\", text2 = \"abc\"\n",
    "Output: 3\n",
    "Explanation: The longest common subsequence is \"abc\" and its length is 3.\n",
    "\n",
    "Example 3:\n",
    "Input: text1 = \"abc\", text2 = \"def\"\n",
    "Output: 0\n",
    "Explanation: There is no such common subsequence, so the result is 0.\n",
    "\n",
    "Constraints:\n",
    "1 <= text1.length, text2.length <= 1000\n",
    "text1 and text2 consist of only lowercase English characters."
   ]
  },
  {
   "cell_type": "code",
   "execution_count": 20,
   "id": "9b31b03f-1846-4aa1-84ff-4c954298ebdb",
   "metadata": {},
   "outputs": [
    {
     "name": "stdout",
     "output_type": "stream",
     "text": [
      "   0   0   0   0   0   0   0\n",
      "   0   0   1   1   1   1   1\n",
      "   0   0   1   1   1   1   1\n",
      "   0   0   1   1   2   2   2\n",
      "   0   0   1   1   2   2   2\n",
      "   0   0   1   1   2   2   2\n",
      "   0   1   1   1   2   3   3\n",
      "   0   1   1   1   2   3   4\n",
      "4\n"
     ]
    }
   ],
   "source": [
    "class Solution(object):\n",
    "    def longestCommonSubsequence(self, text1, text2):\n",
    "        \"\"\"\n",
    "        :type text1: str\n",
    "        :type text2: str\n",
    "        :rtype: int\n",
    "        \"\"\"\n",
    "        xlen = len(text1)\n",
    "        ylen = len(text2)\n",
    "        # print (xlen, ylen)\n",
    "        dp = [[0 for j in range(ylen + 1)] for i in range(xlen + 1)]\n",
    "        # print (dp)\n",
    "        for i in range(xlen + 1): dp[i][0] = 0\n",
    "        for j in range(ylen + 1): dp[0][j] = 0\n",
    "        for i in range(1, xlen + 1):\n",
    "            for j in range(1, ylen + 1):\n",
    "                q = 0\n",
    "                if (text1[i - 1] == text2[j - 1]): q = 1 + dp[i - 1][j - 1]\n",
    "                else: q = max(dp[i - 1][j], dp[i][j - 1])\n",
    "                dp[i][j] = q\n",
    "        for i in range(xlen + 1):\n",
    "            for j in range(ylen + 1):\n",
    "                print (\"%4d\"%(dp[i][j]), end = \"\")\n",
    "            print (\"\")\n",
    "        return dp[xlen][ylen]\n",
    "print (Solution().longestCommonSubsequence(\"GXTXTAB\", \"AGGTAB\"))"
   ]
  },
  {
   "cell_type": "code",
   "execution_count": null,
   "id": "ced200d6-4722-46f7-8cd0-f5b9a0cb176c",
   "metadata": {},
   "outputs": [],
   "source": [
    "# Java Implementation\n",
    " public int longestCommonSubsequence(String text1, String text2) {\n",
    "        \n",
    "        int[][] dp = new int[text1.length()+1][text2.length()+1];\n",
    "        \n",
    "        for (int i = 0; i<text1.length()+1; i++) {\n",
    "            for (int j = 0; j<text2.length()+1; j++) {\n",
    "                dp[i][j] = 0;\n",
    "            }\n",
    "        }\n",
    "        \n",
    "        int q = 0;\n",
    "        \n",
    "        for (int i = 1; i<text1.length() + 1; i++) {\n",
    "            for (int j = 1; j < text2.length() + 1; j++) {\n",
    "\n",
    "                if (text1.charAt(i-1) == text2.charAt(j-1)) {\n",
    "                    dp[i][j] = dp[i-1][j-1] + 1;\n",
    "                } else {\n",
    "\n",
    "                    dp[i][j] = Math.max(dp[i-1][j], dp[i][j-1]);\n",
    "                }\n",
    "                \n",
    "                q = Math.max(q, dp[i][j]);\n",
    "            }\n",
    "        }\n",
    "        \n",
    "        return q;\n",
    "    }"
   ]
  },
  {
   "cell_type": "code",
   "execution_count": null,
   "id": "3a42de80-c0aa-4350-9759-ba8aa4c9b8cd",
   "metadata": {},
   "outputs": [],
   "source": [
    "# C++ Implementation\n",
    "class Solution {\n",
    "public:\n",
    "    int longestCommonSubsequence(string text1, string text2) {\n",
    "        int n=text1.size();\n",
    "        int m=text2.size();\n",
    "        int dp[n+1][m+1];\n",
    "        for(int i=0;i<n+1;i++){\n",
    "            for(int j=0;j<m+1;j++){\n",
    "                dp[i][j]=0;\n",
    "            }\n",
    "        }      \n",
    "                    int q=0;\n",
    "        for(int i=1;i<n+1;i++){\n",
    "            for(int j=1;j<m+1;j++){\n",
    "                if(text1[i-1]==text2[j-1]){\n",
    "                    q=dp[i-1][j-1]+1;}\n",
    "                else{\n",
    "                    q=max(dp[i][j-1],dp[i-1][j]);   \n",
    "                }\n",
    "                dp[i][j]=q;\n",
    "                \n",
    "            }\n",
    "        }\n",
    "        return q;\n",
    "    }\n",
    "};"
   ]
  },
  {
   "cell_type": "markdown",
   "id": "6008973f-b89b-4f65-8401-e6a9465ad337",
   "metadata": {},
   "source": [
    "### Minimum Steps to 1"
   ]
  },
  {
   "cell_type": "code",
   "execution_count": null,
   "id": "b09eafa5-3590-4673-beb8-f61b144ab829",
   "metadata": {},
   "outputs": [],
   "source": [
    "Minimum Steps to 1\n",
    "------------------\n",
    "i.e. n -----> 1\n",
    "Condition 1: n = n // 3 if (n % 3 == 0)\n",
    "Condition 2: n = n // 2 if (n % 2 == 0)\n",
    "Otherwise: n = n - 1"
   ]
  },
  {
   "cell_type": "code",
   "execution_count": 21,
   "id": "cafe39ec-6ad2-4c76-b352-5d508c2a14c3",
   "metadata": {},
   "outputs": [
    {
     "name": "stdout",
     "output_type": "stream",
     "text": [
      "[0, 0, 1, 0, 0, 0, 0, 0, 0, 0, 0]\n",
      "[0, 0, 1, 1, 0, 0, 0, 0, 0, 0, 0]\n",
      "[0, 0, 1, 1, 2, 0, 0, 0, 0, 0, 0]\n",
      "[0, 0, 1, 1, 2, 3, 0, 0, 0, 0, 0]\n",
      "[0, 0, 1, 1, 2, 3, 2, 0, 0, 0, 0]\n",
      "[0, 0, 1, 1, 2, 3, 2, 3, 0, 0, 0]\n",
      "[0, 0, 1, 1, 2, 3, 2, 3, 3, 0, 0]\n",
      "[0, 0, 1, 1, 2, 3, 2, 3, 3, 2, 0]\n",
      "[0, 0, 1, 1, 2, 3, 2, 3, 3, 2, 3]\n",
      "3\n"
     ]
    }
   ],
   "source": [
    "import math\n",
    "def minStepToOneTopDown(n, dp):\n",
    "    # base case\n",
    "    if (n == 1): return 0\n",
    "    # recursive case\n",
    "    # lookup dp if n has already been computed\n",
    "    if (dp[n] != 0): return dp[n]\n",
    "    # compute if dp[n] was not pre-calculated and unknown\n",
    "    op1 = op2 = op3 = math.inf\n",
    "    if (n % 3 == 0):\n",
    "        op1 = minStepToOneTopDown(n // 3, dp)\n",
    "    if (n % 2 == 0):\n",
    "        op2 = minStepToOneTopDown(n // 2, dp)\n",
    "    op3 = minStepToOneTopDown(n - 1, dp)\n",
    "    ans = min(op1, op2, op3) + 1\n",
    "    dp[n] = ans\n",
    "    print (dp)\n",
    "    return ans\n",
    "\n",
    "n = 10\n",
    "dp = [0 for i in range(n + 1)]\n",
    "print (minStepToOneTopDown(n, dp))"
   ]
  },
  {
   "cell_type": "code",
   "execution_count": 23,
   "id": "f19ac40c-ff68-4c09-8b27-588449bcb475",
   "metadata": {},
   "outputs": [
    {
     "name": "stdout",
     "output_type": "stream",
     "text": [
      "[0, 0, 1, 1, 2, 3, 2, 3, 3, 2, 3]\n",
      "3\n"
     ]
    }
   ],
   "source": [
    "import math\n",
    "def minStepToOneBottomUp(n):\n",
    "    dp = [0 for i in range(n + 1)]\n",
    "    dp[1] = 0\n",
    "    # iterating on n\n",
    "    for i in range(2, n + 1):\n",
    "        op1 = op2 = op3 = math.inf\n",
    "        if (i % 3 == 0): op1 = dp[i // 3]\n",
    "        if (i % 2 == 0): op2 = dp[i // 2]\n",
    "        op3 = dp[i - 1]\n",
    "        dp[i] = min(op1, op2, op3) + 1\n",
    "    print (dp)\n",
    "    return dp[n]\n",
    "\n",
    "n = 10\n",
    "print (minStepToOneBottomUp(10))"
   ]
  },
  {
   "cell_type": "code",
   "execution_count": null,
   "id": "8313276b-49e7-48da-b492-468b1f189bca",
   "metadata": {},
   "outputs": [],
   "source": [
    "# C++ Implementation\n",
    "#include <bits/stdc++.h> \n",
    "int countStepsToOne(int n) {\n",
    "int dp[n+1];\n",
    "    dp[0]=0,dp[1]=0,dp[2]=1,dp[3]=1;\n",
    "    \n",
    "    for(int i=4;i<=n;i++)\n",
    "    {\n",
    "         int a=INT_MAX,b=INT_MAX, c=INT_MAX;\n",
    "         \n",
    "         if(i%3==0)\n",
    "         a=1+dp[i/3];\n",
    "         if(i%2==0)\n",
    "         b=1+dp[i/2];\n",
    "         c=1+dp[i-1];\n",
    "         dp[i] = min(a,min(b,c));\n",
    "    }  \n",
    "    return dp[n];\n",
    "}"
   ]
  },
  {
   "cell_type": "code",
   "execution_count": null,
   "id": "a877f793-f6b7-4d3d-a2b7-8b58fdbff94a",
   "metadata": {},
   "outputs": [],
   "source": [
    "LeetCode: 70. Climbing Stairs\n",
    "\n",
    "You are climbing a staircase. It takes n steps to reach the top.\n",
    "Each time you can either climb 1 or 2 steps. In how many distinct ways can you climb to the top?\n",
    "\n",
    "Example 1:\n",
    "Input: n = 2\n",
    "Output: 2\n",
    "Explanation: There are two ways to climb to the top.\n",
    "1. 1 step + 1 step\n",
    "2. 2 steps\n",
    "\n",
    "Example 2:\n",
    "Input: n = 3\n",
    "Output: 3\n",
    "Explanation: There are three ways to climb to the top.\n",
    "1. 1 step + 1 step + 1 step\n",
    "2. 1 step + 2 steps\n",
    "3. 2 steps + 1 step\n",
    "\n",
    "Constraints:\n",
    "1 <= n <= 45"
   ]
  },
  {
   "cell_type": "code",
   "execution_count": 26,
   "id": "40a09c51-de75-4a5e-a2f7-7a3fef9315da",
   "metadata": {},
   "outputs": [
    {
     "name": "stdout",
     "output_type": "stream",
     "text": [
      "[0, 1, 2, 3, 5, 8, 13, 21, 34, 55, 89]\n"
     ]
    },
    {
     "data": {
      "text/plain": [
       "89"
      ]
     },
     "execution_count": 26,
     "metadata": {},
     "output_type": "execute_result"
    }
   ],
   "source": [
    "class Solution(object):\n",
    "    def climbStairs(self, n):\n",
    "        \"\"\"\n",
    "        :type n: int\n",
    "        :rtype: int\n",
    "        \"\"\"\n",
    "        if (n == 1 or n == 2): return n\n",
    "        dp = [0 for i in range(n + 1)]\n",
    "        dp[1] = 1\n",
    "        dp[2] = 2\n",
    "        for i in range(3, n + 1):\n",
    "            dp[i] = dp[i - 1] + dp[i - 2]\n",
    "        print (dp)\n",
    "        return dp[n]\n",
    "Solution().climbStairs(10)"
   ]
  },
  {
   "cell_type": "code",
   "execution_count": null,
   "id": "634c7a3d-1288-4a89-a36e-fe9293050e6c",
   "metadata": {},
   "outputs": [],
   "source": [
    "# Java Implementation\n",
    "public int climbStairs(int n) {\n",
    "        int[] dp = new int[n+1];\n",
    "        dp[0]=1;\n",
    "        dp[1]=1;\n",
    "        for(int i=2; i<=n; i++){\n",
    "            dp[i]=dp[i-1]+dp[i-2];\n",
    "        }\n",
    "        \n",
    "        return dp[n];   \n",
    "    }"
   ]
  },
  {
   "cell_type": "code",
   "execution_count": null,
   "id": "90b7f6e4-7679-40c3-b224-51ae62609f2a",
   "metadata": {},
   "outputs": [],
   "source": [
    "# C++ Implementation\n",
    "int climbStairs(int n) {\n",
    "        int dp[n+1];\n",
    "\n",
    "        dp[1]=1, dp[2]=2;\n",
    "\n",
    "        for(int i=3 ;i<= n;i++){\n",
    "            dp[i]=dp[i-1]+dp[i-2];\n",
    "        }\n",
    "        return dp[n];\n",
    "    }"
   ]
  },
  {
   "cell_type": "code",
   "execution_count": null,
   "id": "a83a82c1-c266-4285-a675-dd5637b80935",
   "metadata": {},
   "outputs": [],
   "source": [
    "LeetCode: 322. Coin Change (https://leetcode.com/problems/coin-change/)\n",
    "\n",
    "You are given an integer array coins representing coins of different denominations and an integer amount representing\n",
    "a total amount of money.\n",
    "\n",
    "Return the fewest number of coins that you need to make up that amount. If that amount of money cannot be made up by \n",
    "any combination of the coins, return -1.\n",
    "\n",
    "You may assume that you have an infinite number of each kind of coin.\n",
    "\n",
    "Example 1:\n",
    "Input: coins = [1,2,5], amount = 11\n",
    "Output: 3\n",
    "Explanation: 11 = 5 + 5 + 1\n",
    "\n",
    "Example 2:\n",
    "Input: coins = [2], amount = 3\n",
    "Output: -1\n",
    "\n",
    "Example 3:\n",
    "Input: coins = [1], amount = 0\n",
    "Output: 0\n",
    "\n",
    "Constraints:\n",
    "1 <= coins.length <= 12\n",
    "1 <= coins[i] <= 2^31 - 1\n",
    "0 <= amount <= 104"
   ]
  },
  {
   "cell_type": "code",
   "execution_count": 36,
   "id": "461733b1-9d0c-4849-a67c-fb90c0133d42",
   "metadata": {},
   "outputs": [
    {
     "name": "stdout",
     "output_type": "stream",
     "text": [
      "3\n",
      "[0, 1, 0, 0, 0, 0, 0, 0, 0]\n",
      "[0, 1, 2, 0, 0, 0, 0, 0, 0]\n",
      "[0, 1, 2, 1, 0, 0, 0, 0, 0]\n",
      "[0, 1, 2, 1, 2, 0, 0, 0, 0]\n",
      "[0, 1, 2, 1, 2, 1, 0, 0, 0]\n",
      "[0, 1, 2, 1, 2, 1, 2, 0, 0]\n",
      "[0, 1, 2, 1, 2, 1, 2, 3, 0]\n",
      "[0, 1, 2, 1, 2, 1, 2, 3, 2]\n",
      "2\n"
     ]
    }
   ],
   "source": [
    "import math\n",
    "class Solution:\n",
    "    # def coinChange(self, coins: List[int], amount: int) -> int:\n",
    "    def coinChange(self, coins, amount):\n",
    "        T = len(coins)\n",
    "        print (T)\n",
    "        dp = [0 for i in range(amount + 1)]\n",
    "        # iterate over all states 1 to amount to fill up dp\n",
    "        for n in range(1, amount + 1):\n",
    "            # initialize the current ans to maximum\n",
    "            dp[n] = math.inf\n",
    "            for i in range(T):\n",
    "                if (n - coins[i] >= 0):\n",
    "                    subproblem = dp[n - coins[i]]\n",
    "                    dp[n] = min(dp[n], subproblem + 1)\n",
    "            print (dp)\n",
    "        if (dp[amount] == math.inf): return -1\n",
    "        else: return dp[amount]\n",
    "        \n",
    "print (Solution().coinChange([1, 3, 5], 8))"
   ]
  },
  {
   "cell_type": "code",
   "execution_count": null,
   "id": "d764b3e9-e539-4329-bbeb-a55ea654936c",
   "metadata": {},
   "outputs": [],
   "source": [
    "# Java Implementation\n",
    "class Solution {\n",
    "    public int coinChange(int[] coins, int amount) {\n",
    "\n",
    "        int []dp = new int[amount+1];\n",
    "\n",
    "        for(int i = 0; i<dp.length; i++){\n",
    "            dp[i] = -1;\n",
    "        }\n",
    "        dp[0]= 0;\n",
    "        int res = dp(coins,amount,dp);\n",
    "        return res;\n",
    "\n",
    "\n",
    "    }\n",
    "    public static int dp(int [] arr, int amount,  int [] dp){\n",
    "        for(int i = 0;i<arr.length;i++){\n",
    "            \n",
    "            for(int j = arr[i];j<dp.length;j++){\n",
    "               \n",
    "                if(dp[j] == -1){\n",
    "                    \n",
    "                    if(dp[j-arr[i]] != -1){\n",
    "                        dp[j] = dp[j-arr[i]] + 1;\n",
    "                    }\n",
    "                }else{\n",
    "                    if(dp[j-arr[i]] != -1){\n",
    "                        dp[j] = Math.min((dp[j-arr[i]] + 1), dp[j]);\n",
    "                    }\n",
    "                }\n",
    "            }\n",
    "        }\n",
    "        int n = dp.length;\n",
    "        return dp[n-1];\n",
    "    }\n",
    "}"
   ]
  },
  {
   "cell_type": "markdown",
   "id": "7acede46-adcf-415b-a059-769726e30035",
   "metadata": {},
   "source": [
    "### **Wines Problem**"
   ]
  },
  {
   "cell_type": "markdown",
   "id": "25b9b62c-6618-460a-ba52-b35bdd03d476",
   "metadata": {},
   "source": [
    "**There are n number of wine bottles are there and their prices have been kept in an array p[n] of size n. In one year only one of the wine bottles can be sold. So to sell n bottles we require n number of years. We can sell either the left most or the right most bottle available in the P array. Each year the price of the bottle will get increased while selling. In the y-th year the selling price of the i-th wine bottle will be p[i] x y. Find the maximum total selling price of all n wine bottles.**"
   ]
  },
  {
   "cell_type": "code",
   "execution_count": 40,
   "id": "9cc8ee1d-85ba-4972-aad6-2b40027bd324",
   "metadata": {},
   "outputs": [
    {
     "name": "stdout",
     "output_type": "stream",
     "text": [
      "23\n",
      "50\n"
     ]
    }
   ],
   "source": [
    "def wineProfitTopDownRecursive(wines, i, j, y):\n",
    "    # base case\n",
    "    if (i > j): return 0\n",
    "    # recursive case\n",
    "    # print (i, j, y)\n",
    "    price1 = wines[i] * y + wineProfitTopDownRecursive(wines, i + 1, j, y + 1)\n",
    "    price2 = wines[j] * y + wineProfitTopDownRecursive(wines, i, j - 1, y + 1)\n",
    "    return max(price1, price2)\n",
    "\n",
    "wines = [2, 3, 5]\n",
    "n = len(wines)\n",
    "y = 1\n",
    "print (wineProfitTopDownRecursive(wines, 0, n - 1, y))\n",
    "\n",
    "wines = [2, 3, 5, 1, 4]\n",
    "n = len(wines)\n",
    "y = 1\n",
    "print (wineProfitTopDownRecursive(wines, 0, n - 1, y))"
   ]
  },
  {
   "cell_type": "code",
   "execution_count": null,
   "id": "483dc58d-9590-405e-bf91-da44bc10fe93",
   "metadata": {},
   "outputs": [],
   "source": [
    "# Java Implementation\n",
    "package com.Prabal.DynamicProgramming;\n",
    "\n",
    "public class WineSelling {\n",
    "    public static void main(String[] args) {\n",
    "        int winePrice[] = { 2,3,5,1,4};\n",
    "\n",
    "        int n = winePrice.length;\n",
    "\n",
    "        int ans = findmaxProfit(winePrice, n);\n",
    "\n",
    "        System.out.println(ans);\n",
    "    }\n",
    "    static int findmaxProfit(int winePrice[], int n) {\n",
    "        int dp[][] = new int[n][n];\n",
    "        for(int i = 0; i < n; i++){\n",
    "            dp[i][i] = n * winePrice[i];\n",
    "        }\n",
    "\n",
    "        for(int i = n-2; i >= 0; i--){\n",
    "            for(int j = i+1; j < n; j++){\n",
    "                int y = n -(j-i);\n",
    "                int left = y * winePrice[i] + dp[i+1][j];\n",
    "                int right = y * winePrice[j] + dp[i][j-1];\n",
    "                dp[i][j] = Math.max(left, right);\n",
    "            }\n",
    "        }\n",
    "        return dp[0][n-1];\n",
    "    }\n",
    "}"
   ]
  },
  {
   "cell_type": "code",
   "execution_count": null,
   "id": "3c721e0f-b9e1-46f1-aec5-5599009fe9d2",
   "metadata": {},
   "outputs": [],
   "source": [
    "# C++ Implementation\n",
    "int dp[100][100];\n",
    "int solve(int price[], int i, int j, int year)\n",
    "{\n",
    "    if(i>j) return 0;\n",
    "    if(i==j) return price[i]*year;\n",
    "    \n",
    "    if(dp[i][j]!=-1) return dp[i][j];\n",
    "    int left = price[i]*year + solve(price,i+1,j,year+1);\n",
    "    int right = price[j]*year +solve(price,i,j-1,year+1);\n",
    "    return dp[i][j] = max(left,right);\n",
    "}\n",
    "int maxProfit(int price[], int n)\n",
    "{\n",
    "    memset(dp,-1,sizeof(dp));\n",
    "    return solve(price,0,n-1,1);\n",
    "}"
   ]
  },
  {
   "cell_type": "code",
   "execution_count": 45,
   "id": "922f0c17-e2d1-43d5-b912-06ecc4069461",
   "metadata": {},
   "outputs": [
    {
     "name": "stdout",
     "output_type": "stream",
     "text": [
      "[[0, 0, 0], [0, 0, 0], [0, 0, 15]]\n",
      "[[0, 0, 0], [0, 9, 0], [0, 0, 15]]\n",
      "[[0, 0, 0], [0, 9, 21], [0, 0, 15]]\n",
      "[[6, 0, 0], [0, 9, 21], [0, 0, 15]]\n",
      "[[6, 13, 0], [0, 9, 21], [0, 0, 15]]\n",
      "[[6, 13, 23], [0, 9, 21], [0, 0, 15]]\n",
      "23\n",
      "[[0, 0, 0, 0, 0], [0, 0, 0, 0, 0], [0, 0, 0, 0, 0], [0, 0, 0, 0, 0], [0, 0, 0, 0, 20]]\n",
      "[[0, 0, 0, 0, 0], [0, 0, 0, 0, 0], [0, 0, 0, 0, 0], [0, 0, 0, 5, 0], [0, 0, 0, 0, 20]]\n",
      "[[0, 0, 0, 0, 0], [0, 0, 0, 0, 0], [0, 0, 0, 0, 0], [0, 0, 0, 5, 24], [0, 0, 0, 0, 20]]\n",
      "[[0, 0, 0, 0, 0], [0, 0, 0, 0, 0], [0, 0, 25, 0, 0], [0, 0, 0, 5, 24], [0, 0, 0, 0, 20]]\n",
      "[[0, 0, 0, 0, 0], [0, 0, 0, 0, 0], [0, 0, 25, 29, 0], [0, 0, 0, 5, 24], [0, 0, 0, 0, 20]]\n",
      "[[0, 0, 0, 0, 0], [0, 0, 0, 0, 0], [0, 0, 25, 29, 41], [0, 0, 0, 5, 24], [0, 0, 0, 0, 20]]\n",
      "[[0, 0, 0, 0, 0], [0, 15, 0, 0, 0], [0, 0, 25, 29, 41], [0, 0, 0, 5, 24], [0, 0, 0, 0, 20]]\n",
      "[[0, 0, 0, 0, 0], [0, 15, 37, 0, 0], [0, 0, 25, 29, 41], [0, 0, 0, 5, 24], [0, 0, 0, 0, 20]]\n",
      "[[0, 0, 0, 0, 0], [0, 15, 37, 40, 0], [0, 0, 25, 29, 41], [0, 0, 0, 5, 24], [0, 0, 0, 0, 20]]\n",
      "[[0, 0, 0, 0, 0], [0, 15, 37, 40, 48], [0, 0, 25, 29, 41], [0, 0, 0, 5, 24], [0, 0, 0, 0, 20]]\n",
      "[[10, 0, 0, 0, 0], [0, 15, 37, 40, 48], [0, 0, 25, 29, 41], [0, 0, 0, 5, 24], [0, 0, 0, 0, 20]]\n",
      "[[10, 23, 0, 0, 0], [0, 15, 37, 40, 48], [0, 0, 25, 29, 41], [0, 0, 0, 5, 24], [0, 0, 0, 0, 20]]\n",
      "[[10, 23, 43, 0, 0], [0, 15, 37, 40, 48], [0, 0, 25, 29, 41], [0, 0, 0, 5, 24], [0, 0, 0, 0, 20]]\n",
      "[[10, 23, 43, 45, 0], [0, 15, 37, 40, 48], [0, 0, 25, 29, 41], [0, 0, 0, 5, 24], [0, 0, 0, 0, 20]]\n",
      "[[10, 23, 43, 45, 50], [0, 15, 37, 40, 48], [0, 0, 25, 29, 41], [0, 0, 0, 5, 24], [0, 0, 0, 0, 20]]\n",
      "50\n"
     ]
    }
   ],
   "source": [
    "def wineProfitTopDownRecursiveDP(wines, i, j, y, dp):\n",
    "    # base case\n",
    "    if (i > j): return 0\n",
    "    # return if dp[i][j] already got calculated\n",
    "    if (dp[i][j] != 0): return dp[i][j]\n",
    "    # recursive calls for the calculation\n",
    "    price1 = wines[i] * y + wineProfitTopDownRecursiveDP(wines, i + 1, j, y + 1, dp)\n",
    "    price2 = wines[j] * y + wineProfitTopDownRecursiveDP(wines, i, j - 1, y + 1, dp)\n",
    "    dp[i][j] = max(price1, price2)\n",
    "    print (dp)\n",
    "    return dp[i][j]\n",
    "\n",
    "wines = [2, 3, 5]\n",
    "n = len(wines)\n",
    "dp = [[0 for _ in range(n)] for _ in range(n)]\n",
    "y = 1\n",
    "print (wineProfitTopDownRecursiveDP(wines, 0, n - 1, y, dp))\n",
    "\n",
    "wines = [2, 3, 5, 1, 4]\n",
    "n = len(wines)\n",
    "dp = [[0 for _ in range(n)] for _ in range(n)]\n",
    "y = 1\n",
    "print (wineProfitTopDownRecursiveDP(wines, 0, n - 1, y, dp))"
   ]
  },
  {
   "cell_type": "code",
   "execution_count": 46,
   "id": "437d2262-2018-4a87-8d40-61dc9c0bb295",
   "metadata": {},
   "outputs": [
    {
     "name": "stdout",
     "output_type": "stream",
     "text": [
      "[[6, 13, 23], [0, 9, 21], [0, 0, 15]]\n",
      "23\n",
      "[[10, 23, 43, 45, 50], [0, 15, 37, 40, 48], [0, 0, 25, 29, 41], [0, 0, 0, 5, 24], [0, 0, 0, 0, 20]]\n",
      "50\n"
     ]
    }
   ],
   "source": [
    "def wineProfitBottomUpDP(wines):\n",
    "    n = len(wines)\n",
    "    dp = [[0 for col in range(n)] for row in range(n)]\n",
    "    y = n\n",
    "    for row in range(n):\n",
    "        dp[row][row] = wines[row] * y\n",
    "    y = y - 1\n",
    "    for startcol in range(1, n):\n",
    "        col = startcol\n",
    "        row = 0\n",
    "        while (col < n):\n",
    "            dp[row][col] = max(wines[col] * y + dp[row][col - 1], wines[row] * y + dp[row + 1][col])\n",
    "            col += 1\n",
    "            row += 1\n",
    "        y -= 1\n",
    "    print (dp)\n",
    "    return dp[0][n - 1]\n",
    "\n",
    "wines = [2, 3, 5]\n",
    "print (wineProfitBottomUpDP(wines))\n",
    "\n",
    "wines = [2, 3, 5, 1, 4]\n",
    "print (wineProfitBottomUpDP(wines))"
   ]
  },
  {
   "cell_type": "code",
   "execution_count": null,
   "id": "7457f9c4-0449-49ab-bdb4-6cbb7c743e22",
   "metadata": {},
   "outputs": [],
   "source": []
  },
  {
   "cell_type": "code",
   "execution_count": null,
   "id": "1322a55c-f5de-4062-9446-1584274c575a",
   "metadata": {},
   "outputs": [],
   "source": []
  },
  {
   "cell_type": "code",
   "execution_count": null,
   "id": "0c2fe1ab-7544-4645-93f7-b787abfa82d5",
   "metadata": {},
   "outputs": [],
   "source": []
  },
  {
   "cell_type": "code",
   "execution_count": null,
   "id": "1e31a7d3-56b7-4bdd-a3c9-fb2c26090f38",
   "metadata": {},
   "outputs": [],
   "source": []
  },
  {
   "cell_type": "code",
   "execution_count": null,
   "id": "73d3c048-7c69-468b-b0b4-820db63ce558",
   "metadata": {},
   "outputs": [],
   "source": []
  }
 ],
 "metadata": {
  "kernelspec": {
   "display_name": "Python 3",
   "language": "python",
   "name": "python3"
  },
  "language_info": {
   "codemirror_mode": {
    "name": "ipython",
    "version": 3
   },
   "file_extension": ".py",
   "mimetype": "text/x-python",
   "name": "python",
   "nbconvert_exporter": "python",
   "pygments_lexer": "ipython3",
   "version": "3.8.8"
  }
 },
 "nbformat": 4,
 "nbformat_minor": 5
}
