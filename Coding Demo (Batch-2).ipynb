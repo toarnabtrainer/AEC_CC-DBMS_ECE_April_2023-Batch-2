{
 "cells": [
  {
   "cell_type": "code",
   "execution_count": 4,
   "id": "1b660741-0838-46b2-b24e-a22238e79604",
   "metadata": {},
   "outputs": [
    {
     "name": "stdout",
     "output_type": "stream",
     "text": [
      "Hello Hello Hello Hello Hello \n",
      "Welcome Welcome Welcome Welcome Welcome Welcome Welcome \n"
     ]
    }
   ],
   "source": [
    "print (\"Hello \" * 5)\n",
    "print (\"Welcome \" * 7)"
   ]
  },
  {
   "cell_type": "code",
   "execution_count": null,
   "id": "7337607e-c091-4280-a580-525785019a82",
   "metadata": {},
   "outputs": [],
   "source": [
    "n = 11 (ODD Number)   m = (n + 1) // 2 = 6\n",
    "                i   .   *\n",
    "              -------------\n",
    "***********     1   0  11        (i, m, n)\n",
    ".*********      2   1   9   . => (i - 1)\n",
    "..*******       3   2   7\n",
    "...*****        4   3   5   * => 2 * (m - i) + 1\n",
    "....***         5   4   3\n",
    ".....*        __6___5___1__\n",
    "....***         7   4   3\n",
    "...*****        8   3   5   . => (n - i)\n",
    "..*******       9   2   7\n",
    ".*********     10   1   9   * => 2 * (i - m) + 1\n",
    "***********    11   0  11\n",
    "              -------------\n",
    "              Tracing Table"
   ]
  },
  {
   "cell_type": "code",
   "execution_count": 8,
   "id": "b34c069b-14a2-489b-b120-80e07eb5adc9",
   "metadata": {},
   "outputs": [
    {
     "name": "stdin",
     "output_type": "stream",
     "text": [
      "Please enter the ODD number of layers:  12\n",
      "Please enter the ODD number of layers:  18\n",
      "Please enter the ODD number of layers:  10\n",
      "Please enter the ODD number of layers:  4\n",
      "Please enter the ODD number of layers:  11\n"
     ]
    },
    {
     "name": "stdout",
     "output_type": "stream",
     "text": [
      "***********\n",
      ".*********\n",
      "..*******\n",
      "...*****\n",
      "....***\n",
      ".....*\n",
      "....***\n",
      "...*****\n",
      "..*******\n",
      ".*********\n",
      "***********\n",
      "End of the program...\n"
     ]
    }
   ],
   "source": [
    "while (True):\n",
    "    n = int(input(\"Please enter the ODD number of layers: \"))\n",
    "    if (n % 2 == 1): break\n",
    "m = (n + 1) // 2\n",
    "for i in range(1, n + 1):\n",
    "    if (i > m): b = (n - i); s = 2 * (i - m) + 1\n",
    "    else: b = (i - 1); s = 2 * (m - i) + 1\n",
    "    print (\".\" * b + \"*\" * s)\n",
    "print (\"End of the program...\")"
   ]
  },
  {
   "cell_type": "code",
   "execution_count": null,
   "id": "0c90a01e-7f21-488e-b60a-dab16d6940eb",
   "metadata": {},
   "outputs": [],
   "source": [
    "# Java Code\n",
    "import java.util.Scanner;\n",
    "public class Main {\n",
    "    public static void main(String[] args) {\n",
    "        Scanner scanner = new Scanner(System.in);\n",
    "        int n, m, b, s;\n",
    "        while (true) {\n",
    "            System.out.print(\"Please enter the ODD number of layers: \");\n",
    "            n = scanner.nextInt();\n",
    "            if (n % 2 == 1) \n",
    "            break;\n",
    "        }\n",
    "        m = (n + 1) / 2;\n",
    "        for (int i = 1; i <= n; i++) {\n",
    "            if (i > m) {\n",
    "                b = (n - i);\n",
    "                s = 2 * (i - m) + 1;\n",
    "            } else {\n",
    "                b = (i - 1);\n",
    "                s = 2 * (m - i) + 1;\n",
    "            }\n",
    "            for (int j = 1; j <= b; j++) {\n",
    "                System.out.print(\".\");\n",
    "            }\n",
    "            for (int j = 1; j <= s; j++) {\n",
    "                System.out.print(\"*\");\n",
    "            }\n",
    "            System.out.println();\n",
    "        }\n",
    "        System.out.println(\"End of the program...\");\n",
    "    }\n",
    "}"
   ]
  },
  {
   "cell_type": "code",
   "execution_count": null,
   "id": "1917b856-f83a-4fee-8f67-af6540c527fc",
   "metadata": {},
   "outputs": [],
   "source": [
    "# C++ Code\n",
    "#include <iostream>\n",
    "\n",
    "using namespace std;\n",
    "\n",
    "int main()\n",
    "{\n",
    "    int i, j, n, m, star, blank;\n",
    "    while (true) {\n",
    "        cout << \"Please enter the ODD number of layers: \";\n",
    "        cin >> n;\n",
    "        if (n % 2 == 1) break;\n",
    "    }\n",
    "    m = (n + 1) / 2;\n",
    "    for (i = 1; i <= n; i++) {\n",
    "        if (i > m) {\n",
    "            blank = (n - i);\n",
    "            star = 2 * (i - m) + 1;\n",
    "        } else {\n",
    "            blank = (i - 1); \n",
    "            star = 2 * (m - i) + 1;\n",
    "        }\n",
    "        for (j = 1; j <= blank; j++) cout << \".\";\n",
    "        for (j = 1; j <= star; j++) cout << \"*\";\n",
    "        cout << endl;\n",
    "    }\n",
    "    cout << \"\\nEnd of the program...\";\n",
    "    return 0;\n",
    "}"
   ]
  },
  {
   "cell_type": "code",
   "execution_count": null,
   "id": "8091421d-1080-4bb8-a4ee-48f0eaf2fcc5",
   "metadata": {},
   "outputs": [],
   "source": [
    "# C++ Implementation\n",
    "#include <iostream>\n",
    "using namespace std;\n",
    "int main() {\n",
    "    int i, j, n, m, s, b;\n",
    "    while (true) {\n",
    "        cout << \"Please enter the ODD number of layers: \";\n",
    "        cin >> n;\n",
    "        if (n % 2 == 1) break;\n",
    "    }\n",
    "    m = (n + 1) / 2;\n",
    "    for (i = 1; i <= n; i++) {\n",
    "        if (i > m) {\n",
    "            b = (n - i); \n",
    "            s = 2 * (i - m) + 1;\n",
    "        } else {\n",
    "            b = (i - 1);\n",
    "            s = 2 * (m - i) + 1;\n",
    "        }\n",
    "        for (j = 1; j <= b; j++) cout << \".\";\n",
    "        for (j = 1; j <= s; j++) cout << \"*\";\n",
    "        cout << endl;\n",
    "    }\n",
    "    cout << \"\\nEnd of the program...\";\n",
    "    return 0;\n",
    "}"
   ]
  },
  {
   "cell_type": "code",
   "execution_count": null,
   "id": "d87f4f2c-f3bb-4e71-b0fd-34ded36c4902",
   "metadata": {},
   "outputs": [],
   "source": [
    "# HOME WORK:\n",
    "\n",
    "     total = 1 + 2 + 3 + 4 + 10 + 5 + 6 + 7 + 8 + 26 + 9 + 10 + ... n terms\n",
    "Place No. -> 1   2   3   4   5    6   7   8   9   10  11   12 \n",
    "Find the total of this series for one user given value for n.\n",
    "\n",
    "What will be the 99th term of this sequence? -> 80\n",
    "\n",
    "As example:\n",
    "for n = 4, total = 10\n",
    "for n = 5, total = 20\n",
    "for n = 10, total = 72\n",
    "for n = 11, total = 81\n",
    "\n",
    "Group of 5 numbers -> 4 ordinary numbers and 1 sum number\n",
    "20 Groups -> 80 ordinary numbers and 20 sum numbers -> 100 terms"
   ]
  },
  {
   "cell_type": "code",
   "execution_count": null,
   "id": "6e0fe3a6-0857-4230-ac29-649705a88459",
   "metadata": {},
   "outputs": [],
   "source": [
    "# Pseudo Code of the assignment\n",
    "n = input()\n",
    "final_sum = temp_sum = 0\n",
    "term = 1\n",
    "for i = 1 to n\n",
    "    if (i % 5 == 0) then\n",
    "        final_sum = final_sum + temp_sum\n",
    "        temp_sum = ?????\n",
    "    else\n",
    "        final_sum = final_sum + term\n",
    "        temp_sum = temp_sum + term\n",
    "        term = term + 1\n",
    "    end if\n",
    "end for\n",
    "print final_sum\n",
    "end"
   ]
  },
  {
   "cell_type": "code",
   "execution_count": null,
   "id": "4f77933a-8400-46c7-85fb-c3a2df595b55",
   "metadata": {},
   "outputs": [],
   "source": [
    "# C++ Implementation\n",
    "#include<bits/stdc++.h>\n",
    "using namespace std;\n",
    "// 1 2 3 4 10 5 6 7 8 26 9 10 11 12 .......\n",
    "int main() {\n",
    "    int n;\n",
    "    cout << \"enter the values of n\" << endl;\n",
    "    cin >> n;\n",
    "    int sum1=0;\n",
    "    int tempSum = 0;\n",
    "    int element = 1;\n",
    "    for (int i = 1; i <= n; i++) {\n",
    "        // for every 5th term\n",
    "        // grouping of 4 elements\n",
    "        if (i % 5 == 0) {\n",
    "            sum1 = sum1 + tempSum;\n",
    "            tempSum = 0;\n",
    "            // update and reset temp for new cycle\n",
    "        }\n",
    "        // for all normal 4 terms\n",
    "        else {\n",
    "            sum1 = sum1 + element;\n",
    "            // element will be diff by i\n",
    "            tempSum = tempSum + element;\n",
    "            //update both total sum and temp sum\n",
    "            element ++; // increase by 1\n",
    "        }\n",
    "    }\n",
    "    cout << \" final sum is \" << sum1 << endl;\n",
    "}"
   ]
  },
  {
   "cell_type": "markdown",
   "id": "a866c45b-8d7f-453e-8569-c40f9a2f7ba0",
   "metadata": {},
   "source": [
    "### Spiral Fillup"
   ]
  },
  {
   "cell_type": "markdown",
   "id": "a932e5fb-46af-407d-9f04-0c73aa48e356",
   "metadata": {},
   "source": [
    "**Fill up a matrix with dimension (n x n) with numbers ranging from 1 to n^2 in a clockwise manner starting from the left top corner of a matrix. Here n is an integer supplied by the user.**"
   ]
  },
  {
   "cell_type": "code",
   "execution_count": null,
   "id": "6f3882c5-ac4e-4a75-96be-b563aff68b61",
   "metadata": {},
   "outputs": [],
   "source": [
    "n = 5                        Variable: r => row, c => col, rr => incr/decr factor along row, cc => incr/decr factor along col\n",
    "                             rr => (0, 1, -1), cc => (0, 1 -1) r = r + rr and c = c + cc\n",
    "      0   1   2   3   4        rr   cc      r = 0, c = 0, rr = 0, cc = 1\n",
    "-------------------------    -----------    tt = rr            * Limit check:\n",
    " 0 |  1   2   3   4   5         0    1      rr = cc                * if (c == n)\n",
    " 1 | 16  17  18  19   6         1    0      cc = -tt               * if (r == n)\n",
    " 2 | 15  24  25  20   7         0   -1      (rr, cc = cc, -rr)     * if (c == -1)\n",
    " 3 | 14  23  22  21   8        -1    0      tt = cc            * Pre-Occupied check:\n",
    " 4 | 13  12  11  10   9      -----------    cc = -rr               * if (matrix[r][c] != 0)\n",
    "-------------------------       0    1      rr = tt   if ((c == n) or (r == n) or (c == -1) or (matrix[r][c] != 0))"
   ]
  },
  {
   "cell_type": "code",
   "execution_count": 19,
   "id": "78244547-8a39-4ee4-ac48-89b4198d5902",
   "metadata": {},
   "outputs": [
    {
     "name": "stdin",
     "output_type": "stream",
     "text": [
      "Please enter the dimension of the matrix:  5\n"
     ]
    },
    {
     "name": "stdout",
     "output_type": "stream",
     "text": [
      "[[0, 0, 0, 0, 0], [0, 0, 0, 0, 0], [0, 0, 0, 0, 0], [0, 0, 0, 0, 0], [0, 0, 0, 0, 0]]\n",
      "Displaying the matrix content:\n",
      "    1    2    3    4    5\n",
      "   16   17   18   19    6\n",
      "   15   24   25   20    7\n",
      "   14   23   22   21    8\n",
      "   13   12   11   10    9\n",
      "\n",
      "End of the program...\n",
      "[[1, 2, 3, 4, 5], [16, 17, 18, 19, 6], [15, 24, 25, 20, 7], [14, 23, 22, 21, 8], [13, 12, 11, 10, 9]]\n"
     ]
    },
    {
     "data": {
      "text/plain": [
       "[[1, 2, 3, 4, 5],\n",
       " [16, 17, 18, 19, 6],\n",
       " [15, 24, 25, 20, 7],\n",
       " [14, 23, 22, 21, 8],\n",
       " [13, 12, 11, 10, 9]]"
      ]
     },
     "execution_count": 19,
     "metadata": {},
     "output_type": "execute_result"
    }
   ],
   "source": [
    "n = int(input(\"Please enter the dimension of the matrix: \"))\n",
    "matrix = [[0 for col in range(n)] for row in range(n)]\n",
    "print (matrix)\n",
    "r = c = rr = 0; cc = 1\n",
    "for i in range(1, (n ** 2) + 1):\n",
    "    matrix[r][c] = i\n",
    "    tr = r + rr; tc = c + cc\n",
    "    if ((tc == n) or (tr == n) or (tc == -1) or (matrix[tr][tc] != 0)):\n",
    "        rr, cc = cc, -rr\n",
    "    r = r + rr; c = c + cc\n",
    "print (\"Displaying the matrix content:\")\n",
    "for r in range(n):\n",
    "    for c in range(n):\n",
    "        print (\"%5d\"%matrix[r][c], end = \"\")\n",
    "    print (\"\")\n",
    "print (\"\\nEnd of the program...\")\n",
    "print (matrix)\n",
    "matrix"
   ]
  },
  {
   "cell_type": "code",
   "execution_count": null,
   "id": "f1f1ef02-dd14-40f1-aba2-ce9ee99ba601",
   "metadata": {},
   "outputs": [],
   "source": [
    "LeetCode: 59. Spiral Matrix II (https://leetcode.com/problems/spiral-matrix-ii/)\n",
    "Given a positive integer n, generate an n x n matrix filled with elements from 1 to n2 in spiral order.\n",
    "\n",
    "Example 1:\n",
    "Input: n = 3\n",
    "Output: [[1,2,3],[8,9,4],[7,6,5]]\n",
    "\n",
    "Example 2:\n",
    "Input: n = 1\n",
    "Output: [[1]]\n",
    " \n",
    "Constraints:\n",
    "1 <= n <= 20"
   ]
  },
  {
   "cell_type": "code",
   "execution_count": 15,
   "id": "c1ca2068-81a7-4baf-bee7-26888150b01a",
   "metadata": {},
   "outputs": [
    {
     "data": {
      "text/plain": [
       "[[1, 2, 3, 4, 5],\n",
       " [16, 17, 18, 19, 6],\n",
       " [15, 24, 25, 20, 7],\n",
       " [14, 23, 22, 21, 8],\n",
       " [13, 12, 11, 10, 9]]"
      ]
     },
     "execution_count": 15,
     "metadata": {},
     "output_type": "execute_result"
    }
   ],
   "source": [
    "# LeetCode Solution\n",
    "class Solution(object):\n",
    "    def generateMatrix(self, n):\n",
    "        \"\"\"\n",
    "        :type n: int\n",
    "        :rtype: List[List[int]]\n",
    "        \"\"\"\n",
    "        matrix = [[0 for col in range(n)] for row in range(n)]\n",
    "        r = c = rr = 0; cc = 1\n",
    "        for i in range(1, (n ** 2) + 1):\n",
    "            matrix[r][c] = i\n",
    "            tr = r + rr; tc = c + cc\n",
    "            if ((tc == n) or (tr == n) or (tc == -1) or (matrix[tr][tc] != 0)):\n",
    "                rr, cc = cc, -rr\n",
    "            r = r + rr; c = c + cc\n",
    "        return matrix\n",
    "ob = Solution()\n",
    "ob.generateMatrix(5)"
   ]
  },
  {
   "cell_type": "code",
   "execution_count": 21,
   "id": "bd5b31ee-7861-457a-a484-8f371b790933",
   "metadata": {},
   "outputs": [
    {
     "name": "stdout",
     "output_type": "stream",
     "text": [
      "2 4 4\n"
     ]
    }
   ],
   "source": [
    "list1 = [[11, 22, 33, 44], [55, 66, 77, 88]]\n",
    "print (len(list1), len(list1[0]), len(list1[1]))"
   ]
  },
  {
   "cell_type": "code",
   "execution_count": null,
   "id": "91dd0b8c-4c48-4c1f-9b1d-51c42d311e2f",
   "metadata": {},
   "outputs": [],
   "source": [
    "LeetCode: 54. Spiral Matrix (https://leetcode.com/problems/spiral-matrix/)\n",
    "Given an m x n matrix, return all elements of the matrix in spiral order.\n",
    "\n",
    "Example 1:\n",
    "Input: matrix = [[1,2,3],[4,5,6],[7,8,9]]\n",
    "Output: [1,2,3,6,9,8,7,4,5]\n",
    "\n",
    "Example 2:\n",
    "Input: matrix = [[1,2,3,4],[5,6,7,8],[9,10,11,12]]\n",
    "Output: [1,2,3,4,8,12,11,10,9,5,6,7]\n",
    "\n",
    "Constraints:\n",
    "m == matrix.length\n",
    "n == matrix[i].length\n",
    "1 <= m, n <= 10\n",
    "-100 <= matrix[i][j] <= 100"
   ]
  },
  {
   "cell_type": "code",
   "execution_count": 25,
   "id": "78afddf3-1eab-48b4-b045-0ca49e67f27a",
   "metadata": {},
   "outputs": [
    {
     "name": "stdout",
     "output_type": "stream",
     "text": [
      "3 4\n",
      "[0, 0, 0, 0, 0, 0, 0, 0, 0, 0, 0, 0]\n"
     ]
    },
    {
     "data": {
      "text/plain": [
       "[1, 2, 3, 4, 8, 12, 11, 10, 9, 5, 6, 7]"
      ]
     },
     "execution_count": 25,
     "metadata": {},
     "output_type": "execute_result"
    }
   ],
   "source": [
    "class Solution(object):\n",
    "    def spiralOrder(self, matrix):\n",
    "        \"\"\"\n",
    "        :type matrix: List[List[int]]\n",
    "        :rtype: List[int]\n",
    "        \"\"\"\n",
    "        max_row = len(matrix)\n",
    "        if (max_row == 0): return []\n",
    "        max_col = len(matrix[0])\n",
    "        print (max_row, max_col)\n",
    "        result_arr = [0 for i in range(max_row * max_col)]\n",
    "        print (result_arr)\n",
    "        r = c = rr = 0; cc = 1\n",
    "        min_col = min_row = -1\n",
    "        for i in range(max_row * max_col):\n",
    "            result_arr[i] = matrix[r][c]\n",
    "            tr = r + rr; tc = c + cc\n",
    "            if (tc == max_col or tc == min_col or tr == max_row or tr == min_row):\n",
    "                rr, cc = cc, -rr\n",
    "                if (tc == max_col): min_row += 1\n",
    "                elif (tc == min_col): max_row -= 1\n",
    "                elif (tr == max_row): max_col -= 1\n",
    "                elif (tr == min_row): min_col += 1\n",
    "            r = r + rr; c = c + cc\n",
    "        return result_arr\n",
    "ob = Solution()\n",
    "ob.spiralOrder([[1,2,3,4],[5,6,7,8],[9,10,11,12]])\n",
    "# Output: [1,2,3,4,8,12,11,10,9,5,6,7]"
   ]
  },
  {
   "cell_type": "markdown",
   "id": "de630432-fdca-4c62-b48e-97784db11b0a",
   "metadata": {},
   "source": [
    "### HOME WORK\n",
    "\n",
    "**Fill up a matrix with dimension (n x n) with numbers ranging from 1 to n^2 in an _Anti-Clockwise_ manner starting from the left top corner of a matrix. Here n is an integer supplied by the user.**"
   ]
  },
  {
   "cell_type": "code",
   "execution_count": null,
   "id": "8d21d9ba-46c9-4e5f-aebd-cafb2fd5d498",
   "metadata": {},
   "outputs": [],
   "source": [
    "n = 5                        Variable: r => row, c => col, rr => incr/decr factor along row, cc => incr/decr factor along col\n",
    "                             rr => (0, 1, -1), cc => (0, 1 -1) r = r + rr and c = c + cc\n",
    "      0   1   2   3   4        rr   cc      r = 0, c = 0, rr = 0, cc = 1\n",
    "-------------------------    -----------    tt = rr            * Limit check:\n",
    " 0 |  1  16  15  14  13         0    1      rr = cc                * if (c == n)\n",
    " 1 |  2  17  24  23  12         1    0      cc = -tt               * if (r == n)\n",
    " 2 |  3  18  25  22  11         0   -1      (rr, cc = cc, -rr)     * if (c == -1)\n",
    " 3 |  4  19  20  21  10        -1    0      tt = cc            * Pre-Occupied check:\n",
    " 4 |  5   6   7   8   9      -----------    cc = -rr               * if (matrix[r][c] != 0)\n",
    "-------------------------       0    1      rr = tt   if ((c == n) or (r == n) or (c == -1) or (matrix[r][c] != 0))"
   ]
  },
  {
   "cell_type": "markdown",
   "id": "5f5c06ee-7d24-4d7d-a23f-4e5d0c54048c",
   "metadata": {},
   "source": [
    "### Magic Square\n",
    "\n",
    "**Fill up a matrix with dimension (n x n) (where n is a user given ODD integer number) with numbers ranging from 1 to (n * n) using them once in such a way that, the row-wise, col-wise and diagonal-wise sums of the numbres are equal to each other.**\n",
    "\n",
    "**The matrix thus obtained is called a Magic Square and the sum thus produced is called a Magic Sum.**"
   ]
  },
  {
   "cell_type": "code",
   "execution_count": null,
   "id": "38a13bde-9ce3-4253-ba38-a807d332cee4",
   "metadata": {},
   "outputs": [],
   "source": [
    "n = 5 (ODD Integer)           *   *   *     r = 0, c = n // 2 (Here r => row and c => column)\n",
    "                             **  **  **     Normal way: r -= 1 and c += 1\n",
    "      0   1   2   3   4     * * * * * * *   \n",
    "-------------------------  *  **  **  **           (1) Limit check:\n",
    " 0 | 17  24   1   8  15   *   *   *   *                a) Row folding:\n",
    " 1 | 23   5   7  14  16   Pseudo Code:                    if (r == -1) r = n - 1 (2/3)\n",
    " 2 |  4   6  13  20  22   ------------                 b) Col folding:\n",
    " 3 | 10  12  19  21   3   input n                         if (c == n) c = 0 (3/2)\n",
    " 4 | 11  18  25   2   9   initialize r, c, matrix      c) Corner logic:\n",
    "------------------------- for i = 1 to n * n              if (r == -1 and c == n) r += 2, c -= 1 (1)\n",
    "Magic Sum = 65                matrix[r][c] = i\n",
    "                              update r, c          (2) Pre-Occupied check:\n",
    "n = 3 (ODD Integer)       end for                         if (matrix[r][c] != 0) r += 2, c -= 1 (4)\n",
    "                          display matrix\n",
    "      0   1   2           end\n",
    "-----------------                                      n  Magic Sum\n",
    " 0 |  8   1   6                                      ----------------\n",
    " 1 |  3   5   7                                        3  15\n",
    " 2 |  4   9   2                                        5  65\n",
    "-----------------                                      7  175\n",
    "Magic Sum = 15                                         n  n * (1 + n * n) // 2\n",
    "                                                     ----------------"
   ]
  },
  {
   "cell_type": "code",
   "execution_count": 35,
   "id": "409e0729-32b7-474c-a1c5-169054354bf1",
   "metadata": {},
   "outputs": [
    {
     "name": "stdin",
     "output_type": "stream",
     "text": [
      "Please enter the dimension of the matrix:  7\n"
     ]
    },
    {
     "name": "stdout",
     "output_type": "stream",
     "text": [
      "So the pre-calculated Magic sum is 175\n",
      "Displaying the matrix content:\n",
      "   30   39   48    1   10   19   28\n",
      "   38   47    7    9   18   27   29\n",
      "   46    6    8   17   26   35   37\n",
      "    5   14   16   25   34   36   45\n",
      "   13   15   24   33   42   44    4\n",
      "   21   23   32   41   43    3   12\n",
      "   22   31   40   49    2   11   20\n",
      "So the post-calculated Magic sum is 175\n",
      "\n",
      "End of the program...\n"
     ]
    }
   ],
   "source": [
    "# Implementation of the Magic Square\n",
    "while (True):\n",
    "    n = int(input(\"Please enter the dimension of the matrix: \"))\n",
    "    if (n % 2 == 1): break\n",
    "print (\"So the pre-calculated Magic sum is\", n * (1 + n * n) // 2)\n",
    "matrix = [[0 for col in range(n)] for row in range(n)]\n",
    "# print (matrix)\n",
    "r, c = 0, n // 2\n",
    "magic_sum = 0\n",
    "for i in range(1, n * n + 1):\n",
    "    matrix[r][c] = i\n",
    "    if (r == c): magic_sum += matrix[r][c]\n",
    "    r -= 1; c += 1\n",
    "    if (r == -1 and c == n): r += 2; c -= 1    # Corner logic\n",
    "    elif (r == -1): r = n - 1    # Row folding\n",
    "    elif (c == n): c = 0    # Col folding\n",
    "    elif (matrix[r][c] != 0): r += 2; c -= 1    # Pre-Occupied check\n",
    "    \n",
    "print (\"Displaying the matrix content:\")\n",
    "for r in range(n):\n",
    "    for c in range(n):\n",
    "        print (\"%5d\"%matrix[r][c], end = \"\")\n",
    "    print (\"\")\n",
    "print (\"So the post-calculated Magic sum is\", magic_sum)\n",
    "print (\"\\nEnd of the program...\")"
   ]
  },
  {
   "cell_type": "markdown",
   "id": "b0b65ea1-e2af-4cd4-b246-57cf3a936585",
   "metadata": {},
   "source": [
    "### Bit Manipulation"
   ]
  },
  {
   "cell_type": "code",
   "execution_count": null,
   "id": "1cff20fa-517d-41c8-a3d6-8789b52c67cb",
   "metadata": {},
   "outputs": [],
   "source": [
    "Bit manipulation operators are: & (AND), | (OR), ^ (XOR), ~ (1's Complement), >> (Right Shift), << (Left Shift)\n",
    "data1 = 100 = 64 + 32 + 4 = 0110 0100 => 0000 0000 0000 0000 0000 0000 0110 0100 (32-Bits / 4 Bytes representation) \n",
    "data2 = 50 = 32 + 16 + 2  = 0011 0010 => 0000 0000 0000 0000 0000 0000 0011 0010 (32-Bits / 4 Bytes representation)\n",
    "\n",
    "data3 = data1 & data2\n",
    "    0110 0100\n",
    "  & 0011 0010\n",
    "    ---------\n",
    "    0010 0000 => 32                                                         \n",
    "\n",
    "data3 = data1 | data2\n",
    "    0110 0100\n",
    "  | 0011 0010\n",
    "    ---------\n",
    "    0111 0110 => 64 + 32 + 16 + 4 + 2 = 118\n",
    "\n",
    "data3 = data1 ^ data2\n",
    "    0110 0100\n",
    "  ^ 0011 0010\n",
    "    ---------\n",
    "    0101 0110 => 64 + 16 + 4 + 2 = 86\n",
    "\n",
    "data4 = 1\n",
    "data5 = ~data4\n",
    "1 = 0000 0001, ~1 = ~(0000 0001) = 1111 1110 => -(2's complement of the number) => -(1's complement of the number + 1)\n",
    "                                             => -(0000 0001 + 1) => -2\n",
    "Integer Number Representation:\n",
    "  1. Unsigned Representation - All n bits will represent the maagnitude part of the number\n",
    "                               Only +ve numbers can be expressed\n",
    "  2. Signed Representation - The first bit will represent the sign of the number (0 means +ve and 1 means -ve)\n",
    "                             And rest (n - 1) bits will represent the magnitude part of the number\n",
    "                             \n",
    "data1 = 100 = 0110 0100\n",
    "data1 << 3 = 0110 0100 000 => 011 0010 0000 => 512 + 256 + 32 = 800\n",
    "Generic Rule: num << n = num * 2^n => 100 << 3 = 100 * 2^3 = 100 * 8 = 800 \n",
    "\n",
    "data1 >> 2 = 0110 0100 >> 2 => 0001 1001 => 25\n",
    "Generic Rule: num >> n = num / 2^n => 100 >> 2 = 100 / 2^2 = 100 / 4 = 25\n",
    "\n",
    ">>> => Arithmetic Shift Right (In Java)\n",
    "1100 1010 >>> 1 => 1110 0101\n",
    "\n",
    "-1 = -0000 0001 => 2's complement representation => 1111 1110 + 1 = 1111 1111"
   ]
  },
  {
   "cell_type": "code",
   "execution_count": 8,
   "id": "8bcd1963-c9c0-4119-a389-149aa3a8db95",
   "metadata": {},
   "outputs": [
    {
     "name": "stdout",
     "output_type": "stream",
     "text": [
      "data1 = 100 and data2 = 50\n",
      "100 & 50 = 32\n",
      "100 | 50 = 118\n",
      "100 ^ 50 = 86\n",
      "~1 = -2\n",
      "100 << 3 = 800\n",
      "100 >> 2 = 25\n"
     ]
    }
   ],
   "source": [
    "data1 = 100\n",
    "data2 = 50\n",
    "print (f\"data1 = {data1} and data2 = {data2}\")\n",
    "print (f\"{data1} & {data2} = {data1 & data2}\")\n",
    "print (f\"{data1} | {data2} = {data1 | data2}\")\n",
    "print (f\"{data1} ^ {data2} = {data1 ^ data2}\")\n",
    "data4 = 1\n",
    "data5 = ~data4\n",
    "print (f\"~{data4} = {data5}\")\n",
    "print (f\"{data1} << 3 = {data1 << 3}\")\n",
    "print (f\"{data1} >> 2 = {data1 >> 2}\")"
   ]
  },
  {
   "cell_type": "markdown",
   "id": "03c2617f-b81a-4f9b-b150-bcbcccf747bf",
   "metadata": {},
   "source": [
    "### **Rules in Bit Manipulation**\n",
    "* num << n = num * 2^n<br>\n",
    "* num >> n = num / 2^n<br>\n",
    "* -1 = ~0 = 111...1 (n number of 1 bits)<br>\n",
    "* ~n = -n - 1 or -n = ~n + 1<br>\n",
    "* -n = 2^n - n => -13 = -0000 1101 = 1111 0010 + 1 = 1111 0011 => 255 - 12 = 243 = 2^8 - 13 = 256 - 13 = 243<br>\n",
    "* n & (n - 1) => 0010 0110 => 0010 0100<br>\n",
    "* n & (-n) => 0010 0110 => 0000 0010"
   ]
  },
  {
   "cell_type": "code",
   "execution_count": null,
   "id": "cb7bf48c-4733-4ee0-8835-a7e3e286e962",
   "metadata": {},
   "outputs": [],
   "source": [
    "# C++ Implementation\n",
    "#include <iostream>\n",
    "using namespace std;\n",
    "int main() {\n",
    "    int data1 = 100, data2 = 50, data4 = 1, data5, result;\n",
    "    cout << \"data1 = \" << data1 << \" and data2 = \" << data2 << endl;\n",
    "    cout << data1 << \" & \" << data2 << \" = \" << (data1 & data2) << endl;\n",
    "    cout << data1 << \" | \" << data2 << \" = \" << (data1 | data2) << endl;\n",
    "    cout << data1 << \" ^ \" << data2 << \" = \" << (data1 ^ data2) << endl;\n",
    "    data5 = ~data4;\n",
    "    cout << \"~\" << data4 << \" = \" << data5 << endl;\n",
    "    result = data1 << 3;\n",
    "    cout << data1 << \" << 3 = \" << result << endl;\n",
    "    result = data1 >> 2;\n",
    "    cout << data1 << \" >> 2 = \" << result << endl;\n",
    "    \n",
    "    cout<<\"End of the program...\";\n",
    "\n",
    "    return 0;\n",
    "}"
   ]
  },
  {
   "cell_type": "code",
   "execution_count": 9,
   "id": "bdfc52dc-3e36-4151-b8b7-cd9d5795810b",
   "metadata": {},
   "outputs": [
    {
     "name": "stdout",
     "output_type": "stream",
     "text": [
      "False\n",
      "True\n"
     ]
    }
   ],
   "source": [
    "def isOdd(num):\n",
    "    return (num & 1) == 1\n",
    "\n",
    "print (isOdd(100))\n",
    "print (isOdd(151))"
   ]
  },
  {
   "cell_type": "code",
   "execution_count": 11,
   "id": "62451339-ef8f-402e-8ace-5ad067352242",
   "metadata": {},
   "outputs": [
    {
     "name": "stdout",
     "output_type": "stream",
     "text": [
      "True\n",
      "False\n"
     ]
    }
   ],
   "source": [
    "def isEven(num):\n",
    "    return not isOdd(num)\n",
    "\n",
    "print (isEven(100))\n",
    "print (isEven(151))"
   ]
  },
  {
   "cell_type": "code",
   "execution_count": 12,
   "id": "2d0ebd0c-2b45-4b7e-9019-ff6cbc4c5fbf",
   "metadata": {},
   "outputs": [
    {
     "name": "stdout",
     "output_type": "stream",
     "text": [
      "Even\n",
      "Odd\n"
     ]
    }
   ],
   "source": [
    "num = 200\n",
    "print (\"Odd\" if (num & 1) else \"Even\")  # (num & 1)? \"Odd\": \"Even\";\n",
    "\n",
    "num = 251\n",
    "print (\"Odd\" if (num & 1) else \"Even\")"
   ]
  },
  {
   "cell_type": "code",
   "execution_count": 14,
   "id": "001e1eea-74a7-4241-815d-cddf089d350d",
   "metadata": {},
   "outputs": [
    {
     "name": "stdout",
     "output_type": "stream",
     "text": [
      "1\n",
      "0\n",
      "1\n"
     ]
    }
   ],
   "source": [
    "def getBit(num, i):\n",
    "    # finding the i-th bit from the number num\n",
    "    #                               7654 3210\n",
    "    # for getBit(20, 2) => 16 + 4 = 0001 0100, 2 => 1\n",
    "    #   0001 0100\n",
    "    # & 0000 0100 (mask = 1 << 2 = 1 << i)\n",
    "    #   ---------\n",
    "    #   0000 0100\n",
    "    return 1 if (num & (1 << i)) else 0\n",
    "\n",
    "print (getBit(20, 2))\n",
    "print (getBit(20, 3))\n",
    "print (getBit(20, 4))"
   ]
  },
  {
   "cell_type": "code",
   "execution_count": null,
   "id": "60d9c5d2-4983-48e3-b897-d818c1f88d3b",
   "metadata": {},
   "outputs": [],
   "source": [
    "# C++ Implementation\n",
    "#include <iostream>\n",
    "using namespace std;\n",
    "int getBit(int num, int i) {\n",
    "    return (num & (1 << i))? 1: 0;\n",
    "}\n",
    "\n",
    "int main() {\n",
    "    int num = 20, i = 2;\n",
    "    cout << \"getBit(\" << num << \", \" << i << \") = \" << getBit(num, i) << endl;\n",
    "    \n",
    "    i = 3;\n",
    "    cout << \"getBit(\" << num << \", \" << i << \") = \" << getBit(num, i) << endl;\n",
    "    \n",
    "    i = 4;\n",
    "    cout << \"getBit(\" << num << \", \" << i << \") = \" << getBit(num, i) << endl;\n",
    "\n",
    "    cout<<\"End of the program...\";\n",
    "\n",
    "    return 0;\n",
    "}"
   ]
  },
  {
   "cell_type": "code",
   "execution_count": 16,
   "id": "f3ac3e60-0bcb-400d-b38c-7ecc900facce",
   "metadata": {},
   "outputs": [
    {
     "name": "stdout",
     "output_type": "stream",
     "text": [
      "28\n",
      "52\n"
     ]
    }
   ],
   "source": [
    "def setBit(n, i):\n",
    "    # setting i-th bit from right in number n\n",
    "    #                      7654 3210\n",
    "    # for setBit(20, 3) => 0001 0100, 3 => 0001 1100 => 28\n",
    "    #   0001 0100\n",
    "    # | 0000 1000 (1 << 3 => 1 << i)\n",
    "    #   ---------\n",
    "    #   0001 1100\n",
    "    return n | (1 << i)\n",
    "\n",
    "print (setBit(20, 3))\n",
    "print (setBit(20, 5))"
   ]
  },
  {
   "cell_type": "code",
   "execution_count": 19,
   "id": "072554b6-4b4d-43fa-9147-5a538b2e9be6",
   "metadata": {},
   "outputs": [
    {
     "name": "stdout",
     "output_type": "stream",
     "text": [
      "16\n",
      "20\n",
      "4\n"
     ]
    }
   ],
   "source": [
    "def clearBit(n, i):\n",
    "    # clearing i-th bit from the right in number n\n",
    "    #                         7654 3210\n",
    "    # for clearBit(20, 2) =>  0001 0100, 2 => 0001 0100 & 1111 1011 \n",
    "    #   0001 0100\n",
    "    # & 1111 1011 => mask => ~(1 << 2) => ~(0000 0100) => 1111 1011 => ~(1 << i)\n",
    "    #   ---------\n",
    "    #   0001 0000 => 16\n",
    "    return n & ~(1 << i)\n",
    "\n",
    "print (clearBit(20, 2))\n",
    "print (clearBit(20, 3))\n",
    "print (clearBit(20, 4))"
   ]
  },
  {
   "cell_type": "code",
   "execution_count": null,
   "id": "99a66ade-f18f-4ee9-bf19-c4225c52f358",
   "metadata": {},
   "outputs": [],
   "source": [
    "# C++ Implementation\n",
    "#include <iostream>\n",
    "using namespace std;\n",
    "int clearBit(int num, int i) {\n",
    "    return num & ~(1 << i);\n",
    "}\n",
    "\n",
    "int main() {\n",
    "    int num = 20, i = 2;\n",
    "    cout << \"clearBit(\" << num << \", \" << i << \") = \" << clearBit(num, i) << endl;\n",
    "    \n",
    "    i = 3;\n",
    "    cout << \"clearBit(\" << num << \", \" << i << \") = \" << clearBit(num, i) << endl;\n",
    "    \n",
    "    i = 4;\n",
    "    cout << \"clearBit(\" << num << \", \" << i << \") = \" << clearBit(num, i) << endl;\n",
    "\n",
    "    cout<<\"End of the program...\";\n",
    "\n",
    "    return 0;\n",
    "}"
   ]
  },
  {
   "cell_type": "code",
   "execution_count": 23,
   "id": "9d3dda48-dd09-4e4b-8757-c333bdae86c0",
   "metadata": {},
   "outputs": [
    {
     "name": "stdout",
     "output_type": "stream",
     "text": [
      "28\n"
     ]
    }
   ],
   "source": [
    "def updateBit(n, position, bit):\n",
    "    # updating position-th bit from the right in the number n with bit\n",
    "    #                            7654 3210\n",
    "    # for updateBit(20, 3, 1) => 0001 0100, 3, 1\n",
    "    #     0001 0100\n",
    "    #   & 1111 0111 => mask1 = ~(1 << 3) => ~(1 << position)\n",
    "    #     ---------\n",
    "    #     0001 0100\n",
    "    #   | 0000 1000 => mask2 = bit << position => 1 << 3 => 0000 1000\n",
    "    #     ---------\n",
    "    #     0001 1100 => 28\n",
    "    mask1 = ~(1 << position)\n",
    "    mask2 = bit << position\n",
    "    return (n & mask1) | mask2\n",
    "\n",
    "print (updateBit(20, 3, 1))"
   ]
  },
  {
   "cell_type": "markdown",
   "id": "3fb457a2-0938-47b5-9316-0dc582e01e7a",
   "metadata": {},
   "source": [
    "### Class Assignment - 1"
   ]
  },
  {
   "cell_type": "code",
   "execution_count": 25,
   "id": "de6a9aa5-8d8f-4f12-a9de-4ad0b8fb369e",
   "metadata": {},
   "outputs": [
    {
     "name": "stdout",
     "output_type": "stream",
     "text": [
      "16\n"
     ]
    }
   ],
   "source": [
    "def clearLastIBits(num, i):\n",
    "    # clearing last i bits from right in num\n",
    "    #                          7654 3210\n",
    "    # clearLastIBits(20, 3) => 0001 0100, 3\n",
    "    #                               ----\n",
    "    #                        & 1111 1000 => mask = -1 << 3 = -1 << i\n",
    "    #                          ---------\n",
    "    #                          0001 0000 => 16\n",
    "    return num & (-1 << i)\n",
    "print (clearLastIBits(20, 4))      # 16"
   ]
  },
  {
   "cell_type": "markdown",
   "id": "6e670a73-acf2-49ec-9621-1641a1d4ff7c",
   "metadata": {},
   "source": [
    "### Class Assignment - 2"
   ]
  },
  {
   "cell_type": "code",
   "execution_count": 26,
   "id": "337524a4-22f4-4a4d-aaf8-073b47db3895",
   "metadata": {},
   "outputs": [
    {
     "name": "stdout",
     "output_type": "stream",
     "text": [
      "35\n"
     ]
    }
   ],
   "source": [
    "def clearRangeItoJ(num, i, j):\n",
    "    # clearing all bits in num from i (right) index to j (left) index bit positions\n",
    "    # for clearRangeItoJ(63, 2, 4)\n",
    "    #                                7654 3210\n",
    "    # 63 = 32 + 16 + 8 + 4 + 2 + 1 = 0011 1111\n",
    "    #                                   ----\n",
    "    #                              & 1110 0011 => mask3 = mask1 | mask2\n",
    "    #                                ---------\n",
    "    #                                0010 0011 => 35\n",
    "    #    mask1 = 1110 0000 => -1 << (i + j - 1)\n",
    "    #  | mask2 = 0000 0011 => ~(-1 << i) => ~1111 1100 => 0000 0011\n",
    "    #    -----------------\n",
    "    #    mask3 = 1110 0011\n",
    "    mask1 = -1 << (i + j - 1)\n",
    "    mask2 = ~(-1 << i)\n",
    "    mask3 = mask1 | mask2\n",
    "    return num & mask3\n",
    "    \n",
    "print (clearRangeItoJ(63, 2, 4))    # 35"
   ]
  },
  {
   "cell_type": "code",
   "execution_count": null,
   "id": "1df7cbb0-4115-49c6-94f5-2abeab05abec",
   "metadata": {},
   "outputs": [],
   "source": [
    "LeetCode: 231. Power of Two (https://leetcode.com/problems/power-of-two/)\n",
    "\n",
    "Given an integer n, return true if it is a power of two. Otherwise, return false.\n",
    "An integer n is a power of two, if there exists an integer x such that n == 2x.\n",
    "\n",
    "Example 1:\n",
    "Input: n = 1\n",
    "Output: true\n",
    "Explanation: 20 = 1\n",
    "\n",
    "Example 2:\n",
    "Input: n = 16\n",
    "Output: true\n",
    "Explanation: 24 = 16\n",
    "\n",
    "Example 3:\n",
    "Input: n = 3\n",
    "Output: false\n",
    "\n",
    "Constraints:\n",
    "-2^31 <= n <= 2^31 - 1\n",
    "\n",
    "Follow up: Could you solve it without loops/recursion?"
   ]
  },
  {
   "cell_type": "code",
   "execution_count": 27,
   "id": "d88c7f36-4b60-4464-acff-5738c27046ce",
   "metadata": {},
   "outputs": [
    {
     "name": "stdout",
     "output_type": "stream",
     "text": [
      "False\n",
      "True\n",
      "True\n"
     ]
    }
   ],
   "source": [
    "class Solution(object):\n",
    "    def isPowerOfTwo(self, n):\n",
    "        \"\"\"\n",
    "        :type n: int\n",
    "        :rtype: bool\n",
    "        \"\"\"\n",
    "        p = 0\n",
    "        while (2 ** p < n):\n",
    "            p = p + 1\n",
    "        if (2 ** p == n):\n",
    "            return True\n",
    "        else:\n",
    "            return False\n",
    "ob = Solution()\n",
    "print (ob.isPowerOfTwo(100))\n",
    "print (ob.isPowerOfTwo(16))\n",
    "print (ob.isPowerOfTwo(128))"
   ]
  },
  {
   "cell_type": "code",
   "execution_count": 28,
   "id": "46dd4f04-f2a8-4fe0-96d7-17df03b72ff7",
   "metadata": {},
   "outputs": [
    {
     "name": "stdout",
     "output_type": "stream",
     "text": [
      "False\n",
      "True\n",
      "True\n"
     ]
    }
   ],
   "source": [
    "class Solution(object):\n",
    "    def isPowerOfTwo(self, n):\n",
    "        \"\"\"\n",
    "        :type n: int\n",
    "        :rtype: bool\n",
    "        \"\"\"\n",
    "        p = 0\n",
    "        while (2 ** p < n):\n",
    "            p = p + 1\n",
    "        \n",
    "        return 2 ** p == n\n",
    "ob = Solution()\n",
    "print (ob.isPowerOfTwo(100))\n",
    "print (ob.isPowerOfTwo(16))\n",
    "print (ob.isPowerOfTwo(128))"
   ]
  },
  {
   "cell_type": "code",
   "execution_count": null,
   "id": "12c9182c-8c0d-42a9-a6c5-59767b10ab7a",
   "metadata": {},
   "outputs": [],
   "source": [
    "n = 100 = 64 + 32 + 4 = 0110 0100\n",
    "(n - 1) = 99 = 64 + 32 + 2 + 1 = 0110 0011\n",
    "n & (n - 1) = 0110 0100\n",
    "            & 0110 0011\n",
    "              ---------\n",
    "              0110 0000 != 0\n",
    "            \n",
    "n = 128 = 1000 0000\n",
    "(n - 1) = 127 = 64 + 32 + 16 + 8 + 4 + 2 + 1 = 0111 1111\n",
    "n & (n - 1) = 1000 0000\n",
    "            & 0111 1111\n",
    "              ---------\n",
    "              0000 0000 == 0"
   ]
  },
  {
   "cell_type": "code",
   "execution_count": 31,
   "id": "d82b5633-d655-42e2-8cd4-accd8474b299",
   "metadata": {},
   "outputs": [
    {
     "name": "stdout",
     "output_type": "stream",
     "text": [
      "False\n",
      "True\n",
      "True\n"
     ]
    }
   ],
   "source": [
    "class Solution(object):\n",
    "    def isPowerOfTwo(self, n):\n",
    "        \"\"\"\n",
    "        :type n: int\n",
    "        :rtype: bool\n",
    "        \"\"\"       \n",
    "        # return n != 0 and n & (n - 1) == 0\n",
    "        return n > 0 and n & (n - 1) == 0\n",
    "ob = Solution()\n",
    "print (ob.isPowerOfTwo(100))\n",
    "print (ob.isPowerOfTwo(16))\n",
    "print (ob.isPowerOfTwo(128))"
   ]
  },
  {
   "cell_type": "code",
   "execution_count": null,
   "id": "fa1e9a08-88ae-4026-8965-3c4727a2be22",
   "metadata": {},
   "outputs": [],
   "source": [
    "LeetCode: 78. Subsets (https://leetcode.com/problems/subsets/)\n",
    "\n",
    "Given an integer array nums of unique elements, return all possible subsets (the power set).\n",
    "The solution set must not contain duplicate subsets. Return the solution in any order.\n",
    "\n",
    "Example 1:\n",
    "Input: nums = [1,2,3]\n",
    "Output: [[],[1],[2],[1,2],[3],[1,3],[2,3],[1,2,3]]\n",
    "\n",
    "Example 2:\n",
    "Input: nums = [0]\n",
    "Output: [[],[0]]\n",
    " \n",
    "Constraints:\n",
    "1 <= nums.length <= 10\n",
    "-10 <= nums[i] <= 10\n",
    "All the numbers of nums are unique."
   ]
  },
  {
   "cell_type": "code",
   "execution_count": null,
   "id": "1f6f88cf-da0a-44da-9b76-c29738a275ac",
   "metadata": {},
   "outputs": [],
   "source": [
    "        2  1  0\n",
    "nums = [2, 7, 9], len(nums) => 3, #subsets = 2^3 = 8\n",
    "   0 -> 0  0  0 []\n",
    "   1 -> 0  0  1 [2]\n",
    "   2 -> 0  1  0 [7]\n",
    "   3 -> 0  1  1 [7, 9]\n",
    "   4 -> 1  0  0 [2]\n",
    "   5 -> 1  0  1 [2, 9]\n",
    "   6 -> 1  1  0 [2, 7]\n",
    "   7 -> 1  1  1 [2, 7, 9]\n",
    "Answer => [[], [9], [7], [7, 9], [2], [2, 9], [2, 7], [2, 7, 9]]"
   ]
  },
  {
   "cell_type": "code",
   "execution_count": 32,
   "id": "ba6bc119-691c-409b-8d5f-8dc1fea5460a",
   "metadata": {},
   "outputs": [
    {
     "name": "stdout",
     "output_type": "stream",
     "text": [
      "[[], [2], [7], [2, 7], [9], [2, 9], [7, 9], [2, 7, 9]]\n"
     ]
    }
   ],
   "source": [
    "class Solution(object):\n",
    "    def subsets(self, nums):\n",
    "        \"\"\"\n",
    "        :type nums: List[int]\n",
    "        :rtype: List[List[int]]\n",
    "        \"\"\"\n",
    "        nums_len = len(nums)\n",
    "        number = 0\n",
    "        result = []\n",
    "        while (number < (1 << nums_len)):\n",
    "            result1 = []\n",
    "            value = number\n",
    "            pos = 0\n",
    "            while (value != 0):\n",
    "                if (value & 1):\n",
    "                    result1.append(nums[pos])\n",
    "                # value = value >> 1\n",
    "                value >>= 1\n",
    "                pos += 1\n",
    "            result.append(result1)\n",
    "            number += 1\n",
    "        return result\n",
    "ob = Solution()\n",
    "print (ob.subsets([2, 7, 9]))   # [[], [9], [7], [7, 9], [2], [2, 9], [2, 7], [2, 7, 9]]"
   ]
  },
  {
   "cell_type": "code",
   "execution_count": 5,
   "id": "7ad91bb4-42fe-4336-91da-1d1989eb59ba",
   "metadata": {},
   "outputs": [
    {
     "name": "stdout",
     "output_type": "stream",
     "text": [
      "Looping again...\n",
      "Looping again...\n",
      "Looping again...\n",
      "Looping again...\n",
      "Looping again...\n",
      "3\n",
      "Looping again...\n",
      "Looping again...\n",
      "Looping again...\n",
      "Looping again...\n",
      "Looping again...\n",
      "Looping again...\n",
      "Looping again...\n",
      "Looping again...\n",
      "4\n"
     ]
    }
   ],
   "source": [
    "# counting the number of set bits in a number num\n",
    "# time complexity of this function is O(n), where n is the number of bits in the number num\n",
    "def countBits(num):\n",
    "    ans = 0\n",
    "    while (num):\n",
    "        ans = ans + (num & 1)\n",
    "        num = num >> 1\n",
    "        print (\"Looping again...\")\n",
    "    return ans\n",
    "\n",
    "print (countBits(22))    # 22 = 16 + 4 + 2 = 10110 => 3\n",
    "print (countBits(240))   # 240 = 128 + 64 + 32 + 16 = 1111 0000 => 4"
   ]
  },
  {
   "cell_type": "code",
   "execution_count": null,
   "id": "afd29baf-7c88-4288-aa6b-5b176005c980",
   "metadata": {},
   "outputs": [],
   "source": [
    "     ans       num\n",
    "------------------------\n",
    "     0         22 = 10110\n",
    "     1         22 & 21 = 10110 & 10101 = 10100 = 20\n",
    "     2         10 & 19 = 10100 & 10011 = 10000 = 16\n",
    "     3         16 & 15 = 10000 & 01111 = 00000 = 0\n",
    "------------------------        \n",
    "return ans => 3"
   ]
  },
  {
   "cell_type": "code",
   "execution_count": 7,
   "id": "4aa65296-3f71-4cc4-a9e3-bcba3800bad9",
   "metadata": {},
   "outputs": [
    {
     "name": "stdout",
     "output_type": "stream",
     "text": [
      "Looping again...\n",
      "Looping again...\n",
      "Looping again...\n",
      "3\n",
      "Looping again...\n",
      "Looping again...\n",
      "Looping again...\n",
      "Looping again...\n",
      "4\n"
     ]
    }
   ],
   "source": [
    "# counting the number of set bits in a number num\n",
    "# time complexity of this function is O(n), where n is the number of set bits in the number num\n",
    "def countBitsFast1(num):\n",
    "    ans = 0\n",
    "    while (num):\n",
    "        num = num & (num - 1)\n",
    "        ans += 1\n",
    "        print (\"Looping again...\")\n",
    "    return ans\n",
    "\n",
    "print (countBitsFast1(22))    # 22 = 16 + 4 + 2 = 10110 => 3\n",
    "print (countBitsFast1(240))   # 240 = 128 + 64 + 32 + 16 = 1111 0000 => 4"
   ]
  },
  {
   "cell_type": "code",
   "execution_count": null,
   "id": "09684235-8fb9-4ba0-8c86-a3cf8d34b5fb",
   "metadata": {},
   "outputs": [],
   "source": [
    "   ans   p = num & (-num)                           num\n",
    "----------------------------------------------------------------\n",
    "   0                                                22 = 10110     \n",
    "   1     22 & (-22) = 10110 & 01010 = 00010 = 2     22 - 2 = 20 = 10100\n",
    "   2     20 & (-20) = 10100 & 01100 = 00100 = 4     20 - 4 = 16 = 10000\n",
    "   3     16 & (-16) = 10000 & 10000 = 10000 = 16    16 - 16 = 0 = 00000\n",
    "\n",
    "return ans => 3"
   ]
  },
  {
   "cell_type": "code",
   "execution_count": 11,
   "id": "f58b282e-7f33-4641-b7eb-2586afb76e9a",
   "metadata": {},
   "outputs": [
    {
     "name": "stdout",
     "output_type": "stream",
     "text": [
      "Looping again...\n",
      "Looping again...\n",
      "Looping again...\n",
      "3\n",
      "Looping again...\n",
      "Looping again...\n",
      "Looping again...\n",
      "Looping again...\n",
      "4\n"
     ]
    }
   ],
   "source": [
    "# counting the number of set bits in a number num\n",
    "# time complexity of this function is O(n), where n is the number of set bits in the number num\n",
    "def countBitsFast2(num):\n",
    "    ans = 0\n",
    "    while(num):\n",
    "        p = num & (-num)\n",
    "        num = num - p\n",
    "        ans += 1\n",
    "        print (\"Looping again...\")\n",
    "    return ans\n",
    "\n",
    "print (countBitsFast2(22))    # 22 = 16 + 4 + 2 = 10110 => 3\n",
    "print (countBitsFast2(240))   # 240 = 128 + 64 + 32 + 16 = 1111 0000 => 4"
   ]
  },
  {
   "cell_type": "code",
   "execution_count": 15,
   "id": "dedd7940-54c1-4319-8830-a29fb471e464",
   "metadata": {},
   "outputs": [
    {
     "name": "stdout",
     "output_type": "stream",
     "text": [
      "4\n",
      "8\n"
     ]
    }
   ],
   "source": [
    "import math\n",
    "num = 10\n",
    "print ((int)(math.log(num, 2)) + 1)\n",
    "num = 220\n",
    "print ((int)(math.log(num, 2)) + 1)"
   ]
  },
  {
   "cell_type": "code",
   "execution_count": null,
   "id": "7412d6a4-aace-49b2-97b7-095f9502e3c0",
   "metadata": {},
   "outputs": [],
   "source": [
    "   a     n             last_bit    result\n",
    "---------------------------------------------------------\n",
    "   2     10 = 1010     0           1\n",
    "   2^2   101 = 5       1           1 * 2^2 = 4\n",
    "   2^4   10 = 2        0           1 * 2^2 = 4\n",
    "   2^8   1 = 1         1           1 * 2^2 * 2^8 = 2^10 = 1024\n",
    "   2^16  0"
   ]
  },
  {
   "cell_type": "code",
   "execution_count": 18,
   "id": "4aedd19b-c663-4641-a1fc-4ea2a466ce11",
   "metadata": {},
   "outputs": [
    {
     "name": "stdout",
     "output_type": "stream",
     "text": [
      "Looping again...\n",
      "Looping again...\n",
      "Looping again...\n",
      "Looping again...\n",
      "1024\n",
      "Looping again...\n",
      "Looping again...\n",
      "Looping again...\n",
      "Looping again...\n",
      "Looping again...\n",
      "1048576\n"
     ]
    }
   ],
   "source": [
    "# Binary Exponentiation Method with time complexity is log2(n)\n",
    "def power_optimized(a, n):\n",
    "    # calculating a to the power of n => a^n\n",
    "    # for a = 2 and n = 10, so 2^10 = 1024 is the answer\n",
    "    # now 10 = 1010, i.e. log2(n) number of bits for the computation\n",
    "    # steps are -\n",
    "    # 1. scan the number n from the right most bits\n",
    "    # 2. if the bit is 0 just do a = a * a\n",
    "    # 3. if the bit is 1 just do result = result * a and a = a * a\n",
    "    result = 1\n",
    "    while (n > 0):\n",
    "        last_bit = (n & 1)\n",
    "        if (last_bit):\n",
    "            result = result * a\n",
    "        a = a * a\n",
    "        n = n >> 1   # discarding the last bit of n\n",
    "        print (\"Looping again...\")\n",
    "    return result\n",
    "\n",
    "print (power_optimized(2, 10))\n",
    "print (power_optimized(2, 20))"
   ]
  },
  {
   "cell_type": "code",
   "execution_count": null,
   "id": "76a9798a-8d12-42e7-81d9-1c762a8d869f",
   "metadata": {},
   "outputs": [],
   "source": [
    "# C++ Implementation\n",
    "#include <iostream>\n",
    "using namespace std;\n",
    "// Binary Exponentiation Method with time complexity is log2(n)\n",
    "int power_optimized(int a, int n) {\n",
    "    // calculating a to the power of n => a^n\n",
    "    // for a = 2 and n = 10, so 2^10 = 1024 is the answer\n",
    "    // now 10 = 1010, i.e. log2(n) number of bits for the computation\n",
    "    // steps are -\n",
    "    // 1. scan the number n from the right most bits\n",
    "    // 2. if the bit is 0 just do a = a * a\n",
    "    // 3. if the bit is 1 just do result = result * a and a = a * a\n",
    "    int result = 1;\n",
    "    while (n > 0) {\n",
    "        int last_bit = (n & 1);\n",
    "        if (last_bit)\n",
    "            result = result * a;\n",
    "        a = a * a;\n",
    "        n = n >> 1;   // discarding the last bit of n\n",
    "        cout << \"\\nLooping again...\";\n",
    "    }\n",
    "    return result;\n",
    "}\n",
    "\n",
    "int main() {\n",
    "    cout << power_optimized(2, 10) << endl;\n",
    "    cout << power_optimized(2, 20) << endl;\n",
    "    return 0;\n",
    "}"
   ]
  },
  {
   "cell_type": "code",
   "execution_count": null,
   "id": "d4921cd3-e558-4597-a079-c4b1ed817dcd",
   "metadata": {},
   "outputs": [],
   "source": [
    "LeetCode: 136. Single Number (https://leetcode.com/problems/single-number/)\n",
    "Given a non-empty array of integers nums, every element appears twice except for one. Find that single one.\n",
    "You must implement a solution with a linear runtime complexity and use only constant extra space.\n",
    "\n",
    "Example 1:\n",
    "Input: nums = [2,2,1]\n",
    "Output: 1\n",
    "\n",
    "Example 2:\n",
    "Input: nums = [4,1,2,1,2]\n",
    "Output: 4\n",
    "\n",
    "Example 3:\n",
    "Input: nums = [1]\n",
    "Output: 1\n",
    "\n",
    "Constraints:\n",
    "1 <= nums.length <= 3 * 104\n",
    "-3 * 10^4 <= nums[i] <= 3 * 10^4\n",
    "Each element in the array appears twice except for one element which appears only once."
   ]
  },
  {
   "cell_type": "code",
   "execution_count": null,
   "id": "6e4efb34-8fb7-4de4-99d8-a6a5c401e50b",
   "metadata": {},
   "outputs": [],
   "source": [
    "0 xor 0 = 0      0 xor a = a\n",
    "0 xor 1 = 1      1 xor a = a'\n",
    "1 xor 0 = 1      num1 xor num1 = 0\n",
    "1 xor 1 = 0      0 xor num1 = num1\n",
    "[4,1,2,1,2]\n",
    "4 => 100\n",
    "1 => 001\n",
    "2 => 010\n",
    "1 => 001\n",
    "2 => 010\n",
    "----------\n",
    "xor  100 => 4 (Answer)"
   ]
  },
  {
   "cell_type": "code",
   "execution_count": 22,
   "id": "1bf47ac9-da23-4872-9e2e-df67a2d2e71d",
   "metadata": {},
   "outputs": [
    {
     "name": "stdout",
     "output_type": "stream",
     "text": [
      "4\n",
      "500\n"
     ]
    }
   ],
   "source": [
    "class Solution(object):\n",
    "    def singleNumber(self, nums):\n",
    "        \"\"\"\n",
    "        :type nums: List[int]\n",
    "        :rtype: int\n",
    "        \"\"\"\n",
    "        ans = nums[0]\n",
    "        for i in range(1, len(nums)):\n",
    "            ans ^= nums[i]\n",
    "        return ans\n",
    "    \n",
    "print (Solution().singleNumber([4, 1, 2, 1, 2]))\n",
    "print (Solution().singleNumber([100, 400, 300, 400, 500, 100, 300]))"
   ]
  },
  {
   "cell_type": "code",
   "execution_count": null,
   "id": "bc73ccf4-2c4d-4d5d-8f9b-a07215d29068",
   "metadata": {},
   "outputs": [],
   "source": [
    "LeetCode: 260. Single Number III (https://leetcode.com/problems/single-number-iii/)\n",
    "Given an integer array nums, in which exactly two elements appear only once and all the other elements appear exactly twice.\n",
    "Find the two elements that appear only once. You can return the answer in any order.\n",
    "You must write an algorithm that runs in linear runtime complexity and uses only constant extra space.\n",
    "\n",
    "Example 1:\n",
    "Input: nums = [1,2,1,3,2,5]\n",
    "Output: [3,5]\n",
    "Explanation:  [5, 3] is also a valid answer.\n",
    "\n",
    "Example 2:\n",
    "Input: nums = [-1,0]\n",
    "Output: [-1,0]\n",
    "\n",
    "Example 3:\n",
    "Input: nums = [0,1]\n",
    "Output: [1,0]\n",
    "\n",
    "Constraints:\n",
    "2 <= nums.length <= 3 * 104\n",
    "-2^31 <= nums[i] <= 2^31 - 1\n",
    "Each integer in nums will appear twice, only two integers will appear once."
   ]
  },
  {
   "cell_type": "code",
   "execution_count": null,
   "id": "9eb29b72-fc47-45b4-bc93-dc3f2d3f1f02",
   "metadata": {},
   "outputs": [],
   "source": [
    "[1,2,1,3,2,5]\n",
    "                    2 1 0\n",
    "1 => 0 0 1     3 => 0 1 1   2 => 0 1 0 \n",
    "2 => 0 1 0     5 => 1 0 1   3 => 0 1 1\n",
    "1 => 0 0 1     ------------ 2 => 0 1 0\n",
    "3 => 0 1 1     xor  1 1 0   ----------\n",
    "2 => 0 1 0                  xor  0 1 1 (3)\n",
    "5 => 1 0 1           syndrome xor num1 = 1 1 0  xor  0 1 1 => 1 0 1 (5) \n",
    "-----------\n",
    "xor  1 1 0 => Syndrome = 6"
   ]
  },
  {
   "cell_type": "code",
   "execution_count": 7,
   "id": "6bf14a8e-9974-46bd-9217-46eb4d125819",
   "metadata": {},
   "outputs": [
    {
     "name": "stdout",
     "output_type": "stream",
     "text": [
      "6\n",
      "1\n",
      "[3, 5]\n",
      "912\n",
      "4\n",
      "[700, 300]\n"
     ]
    }
   ],
   "source": [
    "class Solution(object):\n",
    "    def singleNumber(self, nums):\n",
    "        \"\"\"\n",
    "        :type nums: List[int]\n",
    "        :rtype: List[int]\n",
    "        \"\"\"\n",
    "        mask = 0\n",
    "        for i in range(len(nums)):\n",
    "            mask = mask ^ nums[i]\n",
    "        print (mask)\n",
    "        pos = 0\n",
    "        new_mask = mask\n",
    "        while (new_mask & 1 != 1):\n",
    "            pos += 1\n",
    "            new_mask >>= 1\n",
    "        print (pos)\n",
    "        new_mask = 1 << pos\n",
    "        temp = 0\n",
    "        for i in range(len(nums)):\n",
    "            if (nums[i] & new_mask):\n",
    "                temp = temp ^ nums[i]\n",
    "        result = [temp, mask ^ temp]\n",
    "        return result\n",
    "print (Solution().singleNumber([1, 2, 1, 3, 2, 5]))     # 3, 5\n",
    "print (Solution().singleNumber([100, 200, 100, 300, 500, 200, 500, 700]))     # 300, 700"
   ]
  },
  {
   "cell_type": "code",
   "execution_count": null,
   "id": "d43c871e-b644-4bdc-acb7-115b3513cf7f",
   "metadata": {},
   "outputs": [],
   "source": [
    "LeetCode: 137. Single Number II (https://leetcode.com/problems/single-number-ii/)\n",
    "Given an integer array nums where every element appears three times except for one, which appears exactly once.\n",
    "Find the single element and return it.\n",
    "You must implement a solution with a linear runtime complexity and use only constant extra space.\n",
    "\n",
    "Example 1:\n",
    "Input: nums = [2,2,3,2]\n",
    "Output: 3\n",
    "\n",
    "Example 2:\n",
    "Input: nums = [0,1,0,1,0,1,99]\n",
    "Output: 99\n",
    "\n",
    "Constraints:\n",
    "1 <= nums.length <= 3 * 104\n",
    "-2^31 <= nums[i] <= 2^31 - 1\n",
    "Each element in nums appears exactly three times except for one element which appears once."
   ]
  },
  {
   "cell_type": "code",
   "execution_count": null,
   "id": "6e706dae-5bc5-4da1-9345-a38038e3db55",
   "metadata": {},
   "outputs": [],
   "source": [
    "[7, 4, 3, 4, 7, 2, 3, 4, 7, 3] => 2\n",
    "\n",
    "7 =>  0  1  1  1\n",
    "4 =>  0  1  0  0\n",
    "3 =>  0  0  1  1\n",
    "4 =>  0  1  0  0\n",
    "7 =>  0  1  1  1\n",
    "2 =>  0  0  1  0\n",
    "3 =>  0  0  1  1\n",
    "4 =>  0  1  0  0\n",
    "7 =>  0  1  1  1\n",
    "3 =>  0  0  1  1\n",
    "-----------------\n",
    "Total 0  6  7  6 \n",
    "%3 => 0  0  1  0 => 2"
   ]
  },
  {
   "cell_type": "code",
   "execution_count": 21,
   "id": "649f2bd3-2a3d-4312-8821-2cb8c258001c",
   "metadata": {},
   "outputs": [
    {
     "name": "stdout",
     "output_type": "stream",
     "text": [
      "7\n",
      "4\n",
      "[0, 0, 0, 0]\n",
      "[6, 7, 6, 0]\n",
      "[0, 1, 0, 0]\n",
      "2\n",
      "2\n",
      "7\n",
      "4\n",
      "[0, 0, 0, 0]\n",
      "[6, 7, 7, 1]\n",
      "[0, 1, 1, 1]\n",
      "14\n",
      "-2\n",
      "99\n",
      "8\n",
      "[0, 0, 0, 0, 0, 0, 0, 0]\n",
      "[4, 1, 0, 0, 0, 1, 1, 0]\n",
      "[1, 1, 0, 0, 0, 1, 1, 0]\n",
      "99\n",
      "99\n"
     ]
    }
   ],
   "source": [
    "import math\n",
    "class Solution(object):\n",
    "    def singleNumber(self, nums):\n",
    "        \"\"\"\n",
    "        :type nums: List[int]\n",
    "        :rtype: int\n",
    "        \"\"\"\n",
    "        max_num = max(map(abs, nums))\n",
    "        # max_num = max(nums)\n",
    "        print (max_num)\n",
    "        max_bits = (int)(math.log(max_num, 2)) + 2\n",
    "        print (max_bits)\n",
    "        list1 = [0 for i in range(max_bits)]\n",
    "        print (list1)\n",
    "        for no in nums:\n",
    "            pos = 0\n",
    "            while (no != 0 and pos < max_bits):\n",
    "                if (no & 1 != 0):\n",
    "                    list1[pos] += 1\n",
    "                no >>= 1\n",
    "                pos += 1\n",
    "        print (list1)\n",
    "        for i in range(max_bits):\n",
    "            list1[i] %= 3\n",
    "        print (list1)\n",
    "        pos = 0\n",
    "        result = 0\n",
    "        for i in range(max_bits):\n",
    "            if (list1[i] != 0):\n",
    "                result += (1 << pos)\n",
    "            pos += 1\n",
    "        print (result)\n",
    "        if (list1[max_bits - 1] == 1):\n",
    "            result = -(2 ** max_bits - result)\n",
    "        return result\n",
    "print (Solution().singleNumber([7, 4, 3, 4, 7, 2, 3, 4, 7, 3]))   # => 2\n",
    "print (Solution().singleNumber([7, 4, 3, 4, 7, -2, 3, 4, 7, 3]))   # => 2\n",
    "print (Solution().singleNumber([0, 1, 0, 1, 0, 1, 99]))   # => 99"
   ]
  },
  {
   "cell_type": "code",
   "execution_count": null,
   "id": "ebbb8f6e-61ba-49fe-ae8c-88d77c047169",
   "metadata": {},
   "outputs": [],
   "source": []
  },
  {
   "cell_type": "code",
   "execution_count": null,
   "id": "209d25de-c7eb-4814-a978-593fd3118a5b",
   "metadata": {},
   "outputs": [],
   "source": []
  },
  {
   "cell_type": "code",
   "execution_count": null,
   "id": "63cbf6d0-db9f-4cca-977c-f024d2da03fa",
   "metadata": {},
   "outputs": [],
   "source": []
  },
  {
   "cell_type": "code",
   "execution_count": null,
   "id": "f59c2f86-5c1c-4d83-920b-6eb4412465ab",
   "metadata": {},
   "outputs": [],
   "source": []
  }
 ],
 "metadata": {
  "kernelspec": {
   "display_name": "Python 3",
   "language": "python",
   "name": "python3"
  },
  "language_info": {
   "codemirror_mode": {
    "name": "ipython",
    "version": 3
   },
   "file_extension": ".py",
   "mimetype": "text/x-python",
   "name": "python",
   "nbconvert_exporter": "python",
   "pygments_lexer": "ipython3",
   "version": "3.8.8"
  }
 },
 "nbformat": 4,
 "nbformat_minor": 5
}
