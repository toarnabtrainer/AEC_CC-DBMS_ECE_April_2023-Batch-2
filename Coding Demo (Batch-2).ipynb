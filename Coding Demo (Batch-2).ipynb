{
 "cells": [
  {
   "cell_type": "code",
   "execution_count": 4,
   "id": "1b660741-0838-46b2-b24e-a22238e79604",
   "metadata": {},
   "outputs": [
    {
     "name": "stdout",
     "output_type": "stream",
     "text": [
      "Hello Hello Hello Hello Hello \n",
      "Welcome Welcome Welcome Welcome Welcome Welcome Welcome \n"
     ]
    }
   ],
   "source": [
    "print (\"Hello \" * 5)\n",
    "print (\"Welcome \" * 7)"
   ]
  },
  {
   "cell_type": "code",
   "execution_count": null,
   "id": "7337607e-c091-4280-a580-525785019a82",
   "metadata": {},
   "outputs": [],
   "source": [
    "n = 11 (ODD Number)   m = (n + 1) // 2 = 6\n",
    "                i   .   *\n",
    "              -------------\n",
    "***********     1   0  11        (i, m, n)\n",
    ".*********      2   1   9   . => (i - 1)\n",
    "..*******       3   2   7\n",
    "...*****        4   3   5   * => 2 * (m - i) + 1\n",
    "....***         5   4   3\n",
    ".....*        __6___5___1__\n",
    "....***         7   4   3\n",
    "...*****        8   3   5   . => (n - i)\n",
    "..*******       9   2   7\n",
    ".*********     10   1   9   * => 2 * (i - m) + 1\n",
    "***********    11   0  11\n",
    "              -------------\n",
    "              Tracing Table"
   ]
  },
  {
   "cell_type": "code",
   "execution_count": 8,
   "id": "b34c069b-14a2-489b-b120-80e07eb5adc9",
   "metadata": {},
   "outputs": [
    {
     "name": "stdin",
     "output_type": "stream",
     "text": [
      "Please enter the ODD number of layers:  12\n",
      "Please enter the ODD number of layers:  18\n",
      "Please enter the ODD number of layers:  10\n",
      "Please enter the ODD number of layers:  4\n",
      "Please enter the ODD number of layers:  11\n"
     ]
    },
    {
     "name": "stdout",
     "output_type": "stream",
     "text": [
      "***********\n",
      ".*********\n",
      "..*******\n",
      "...*****\n",
      "....***\n",
      ".....*\n",
      "....***\n",
      "...*****\n",
      "..*******\n",
      ".*********\n",
      "***********\n",
      "End of the program...\n"
     ]
    }
   ],
   "source": [
    "while (True):\n",
    "    n = int(input(\"Please enter the ODD number of layers: \"))\n",
    "    if (n % 2 == 1): break\n",
    "m = (n + 1) // 2\n",
    "for i in range(1, n + 1):\n",
    "    if (i > m): b = (n - i); s = 2 * (i - m) + 1\n",
    "    else: b = (i - 1); s = 2 * (m - i) + 1\n",
    "    print (\".\" * b + \"*\" * s)\n",
    "print (\"End of the program...\")"
   ]
  },
  {
   "cell_type": "code",
   "execution_count": null,
   "id": "0c90a01e-7f21-488e-b60a-dab16d6940eb",
   "metadata": {},
   "outputs": [],
   "source": []
  },
  {
   "cell_type": "code",
   "execution_count": null,
   "id": "8091421d-1080-4bb8-a4ee-48f0eaf2fcc5",
   "metadata": {},
   "outputs": [],
   "source": []
  },
  {
   "cell_type": "code",
   "execution_count": null,
   "id": "d87f4f2c-f3bb-4e71-b0fd-34ded36c4902",
   "metadata": {},
   "outputs": [],
   "source": []
  },
  {
   "cell_type": "code",
   "execution_count": null,
   "id": "51eb37b9-81dd-4bbd-99e5-3b8ca830c237",
   "metadata": {},
   "outputs": [],
   "source": []
  }
 ],
 "metadata": {
  "kernelspec": {
   "display_name": "Python 3",
   "language": "python",
   "name": "python3"
  },
  "language_info": {
   "codemirror_mode": {
    "name": "ipython",
    "version": 3
   },
   "file_extension": ".py",
   "mimetype": "text/x-python",
   "name": "python",
   "nbconvert_exporter": "python",
   "pygments_lexer": "ipython3",
   "version": "3.8.8"
  }
 },
 "nbformat": 4,
 "nbformat_minor": 5
}
