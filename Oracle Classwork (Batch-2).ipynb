{
 "cells": [
  {
   "cell_type": "markdown",
   "id": "c760cd87-d59e-44c3-8320-2e677da18ecf",
   "metadata": {},
   "source": [
    "### **Join Operations in Oracle**\n",
    "\n",
    "1. The purpose of a join is to combine the data across tables.\n",
    "2. A join is actually performed by the where clause which combines the specified rows of tables.\n",
    "3. If a join involves in more than two tables then Oracle joins first two tables based on the join conditions and then compares the result with the next table and so on."
   ]
  },
  {
   "cell_type": "markdown",
   "id": "9be9fc6d-3661-40b0-9765-e5f4e2d16e5a",
   "metadata": {},
   "source": [
    "**All tpes of Join operations are:**\n",
    "1. Equi join\n",
    "2. Non-Equi join\n",
    "3. Self join\n",
    "4. Natural join\n",
    "5. Cross join\n",
    "6. Outer join - Left outer, Right outer and Full outer\n",
    "7. Inner join"
   ]
  },
  {
   "cell_type": "markdown",
   "id": "1e3ad072-50b1-4aaa-8ce2-6ae60ff480ae",
   "metadata": {},
   "source": [
    "**Creating Tables:**<br>\n",
    "drop table department;\n",
    "\n",
    "create table department (deptno number, dname varchar2(15), loc varchar2(10));\n",
    "\n",
    "insert into department values(10, 'Inventory', 'Hyderabad');<br>\n",
    "insert into department values(20, 'Finance', 'Bangalore');<br>\n",
    "insert into department values(30, 'HR', 'Mumbai');<br>\n",
    "insert into department values(50, 'IT', 'Delhi');<br>\n",
    "\n",
    "select * from department;\n",
    "\n",
    "desc department;"
   ]
  },
  {
   "cell_type": "markdown",
   "id": "5f2c599f-7594-4574-9e1a-235d68abe594",
   "metadata": {},
   "source": [
    "drop table employee;\n",
    "\n",
    "create table employee (empno number, ename varchar2(15), job varchar2(10), mgr number, deptno number);\n",
    "\n",
    "insert into employee values(111, 'Sathi', 'Analyst', 444, 10);<br>\n",
    "insert into employee values(222, 'Sudha', 'Clerk', 333, 20);<br>\n",
    "insert into employee values(333, 'Jagan', 'Manager', 111, 10);<br>\n",
    "insert into employee values(444, 'Madhu', 'Engineer', 222, 40);<br>\n",
    "\n",
    "select * from employee;\n",
    "\n",
    "desc employee;"
   ]
  },
  {
   "cell_type": "markdown",
   "id": "dfd18486-cd28-4dfd-9df0-be9c992182c3",
   "metadata": {},
   "source": [
    "**1. Equi join**<br>\n",
    "A join which contains an equal to '=' operator in the join condition.\n",
    "\n",
    "select * from employee e, department d where e.deptno = d.deptno;\n",
    "\n",
    "**Using clause**<br>\n",
    "select * from employee e join department d using(deptno);\n",
    "\n",
    "**On clause**<br>\n",
    "select * from employee e join department d on (e.deptno = d.deptno);"
   ]
  },
  {
   "cell_type": "markdown",
   "id": "7362ec65-f0f2-4eda-af9b-b9e67823fa39",
   "metadata": {},
   "source": [
    "**2. Non-Equi join**<br>\n",
    "A join which contains an operator other than equal to '=' operator in the join condition.\n",
    "\n",
    "select * from employee e, department d where e.deptno > d.deptno;"
   ]
  },
  {
   "cell_type": "markdown",
   "id": "ba1bdf13-ca2b-4291-8a3e-c0b5fe2c0bfb",
   "metadata": {},
   "source": [
    "**3. Self join**\n",
    "Joining the table itself is called self join.\n",
    "\n",
    "select * from employee e1, employee e2 where e1.empno = e2.mgr;"
   ]
  },
  {
   "cell_type": "markdown",
   "id": "661af91d-5860-4d23-9463-d65314fe7928",
   "metadata": {},
   "source": [
    "**4. Natural Join**<br>\n",
    "Natural join compares all the common columns.\n",
    "\n",
    "select * from employee natural join department;\n",
    "\n",
    "**Note -** Output of the query is same as we did in equi-join with the query -<br>\n",
    "select * from employee e join department d using(deptno);"
   ]
  },
  {
   "cell_type": "markdown",
   "id": "d1882ea0-f890-481d-8ab3-229b9a4685f9",
   "metadata": {},
   "source": [
    "**5. Cross join**<br>\n",
    "This will give the cross product of two tables as output.\n",
    "\n",
    "select * from employee cross join department;\n",
    "\n",
    "select * from employee, department;"
   ]
  },
  {
   "cell_type": "markdown",
   "id": "e9ee7d62-ac8d-4334-b2f4-82289c9ad730",
   "metadata": {},
   "source": [
    "**6. Outer join<br>\n",
    "Outer join gives the non-matching records along with matching records.\n",
    "\n",
    "**Outer join - Left outer**<br>\n",
    "All records from the left table and matching records from the right table.\n",
    "\n",
    "select * from employee e left outer join department d on (e.deptno = d.deptno);\n",
    "\n",
    "select * from employee e, department d where e.deptno = d.deptno(+);\n",
    "\n",
    "**Outer join - Right outer**<br>\n",
    "All records from the right table and matching records from the left table.\n",
    "\n",
    "select * from employee e right outer join department d on (e.deptno = d.deptno);\n",
    "\n",
    "select * from employee e, department d where e.deptno(+) = d.deptno;\n",
    "\n",
    "**Outer join - Full outer**<br>\n",
    "All records matching and not matching from both the tables.\n",
    "\n",
    "select * from employee e full outer join department d on (e.deptno = d.deptno);"
   ]
  },
  {
   "cell_type": "markdown",
   "id": "828da65a-9c28-4874-88ca-459cce109d51",
   "metadata": {},
   "source": [
    "**7. Inner join**\n",
    "\n",
    "This will display all the matching records.\n",
    "\n",
    "select * from employee inner join department using (deptno);\n",
    "\n",
    "**Note:** This following queries will produce the same output.<br>\n",
    "select * from employee e join department d using(deptno);<br>\n",
    "and<br>\n",
    "select * from employee natural join department;"
   ]
  },
  {
   "cell_type": "code",
   "execution_count": null,
   "id": "c65a3cbc-67a8-4701-ac7e-1d38e7941190",
   "metadata": {},
   "outputs": [],
   "source": []
  },
  {
   "cell_type": "code",
   "execution_count": null,
   "id": "0e8f337f-6ad9-4714-82a4-d94c983828f8",
   "metadata": {},
   "outputs": [],
   "source": []
  },
  {
   "cell_type": "code",
   "execution_count": null,
   "id": "81168871-4bb9-43fa-b10d-0157ce026c90",
   "metadata": {},
   "outputs": [],
   "source": []
  }
 ],
 "metadata": {
  "kernelspec": {
   "display_name": "Python 3",
   "language": "python",
   "name": "python3"
  },
  "language_info": {
   "codemirror_mode": {
    "name": "ipython",
    "version": 3
   },
   "file_extension": ".py",
   "mimetype": "text/x-python",
   "name": "python",
   "nbconvert_exporter": "python",
   "pygments_lexer": "ipython3",
   "version": "3.8.8"
  }
 },
 "nbformat": 4,
 "nbformat_minor": 5
}
